{
  "nbformat": 4,
  "nbformat_minor": 0,
  "metadata": {
    "colab": {
      "provenance": [],
      "include_colab_link": true
    },
    "kernelspec": {
      "name": "python3",
      "display_name": "Python 3"
    },
    "language_info": {
      "name": "python"
    }
  },
  "cells": [
    {
      "cell_type": "markdown",
      "metadata": {
        "id": "view-in-github",
        "colab_type": "text"
      },
      "source": [
        "<a href=\"https://colab.research.google.com/github/Felipehl04/CODES-OF-DATA-VISTUALIZATION-/blob/main/Copia_de_04_DS_and_Pandas.ipynb\" target=\"_parent\"><img src=\"https://colab.research.google.com/assets/colab-badge.svg\" alt=\"Open In Colab\"/></a>"
      ]
    },
    {
      "cell_type": "markdown",
      "source": [
        "# **1. DS and Pandas**\n",
        "\n",
        "it is the Excel of Phyton."
      ],
      "metadata": {
        "id": "1fKYJgGUuCyK"
      }
    },
    {
      "cell_type": "code",
      "execution_count": 1,
      "metadata": {
        "id": "Ns-6STaNtgRv"
      },
      "outputs": [],
      "source": [
        "# Libraries \n",
        "\n",
        "import numpy as np\n",
        "import pandas as pd"
      ]
    },
    {
      "cell_type": "markdown",
      "source": [
        "#**2. Series**\n",
        "\n",
        "A *series* is a one dimensional object"
      ],
      "metadata": {
        "id": "rqWTlyVXu88t"
      }
    },
    {
      "cell_type": "markdown",
      "source": [
        "## 2.1 Series creation"
      ],
      "metadata": {
        "id": "Z8ZCC2h2vStE"
      }
    },
    {
      "cell_type": "code",
      "source": [
        "# Empty series\n",
        "\n",
        "emp = pd.Series\n",
        "print(emp)"
      ],
      "metadata": {
        "colab": {
          "base_uri": "https://localhost:8080/"
        },
        "id": "dIgj-Lnquo7c",
        "outputId": "2f33077f-e85a-40aa-8d81-9dcaf39726e2"
      },
      "execution_count": null,
      "outputs": [
        {
          "output_type": "stream",
          "name": "stdout",
          "text": [
            "<class 'pandas.core.series.Series'>\n"
          ]
        }
      ]
    },
    {
      "cell_type": "code",
      "source": [
        "# Create a series by typing values\n",
        "\n",
        "print(\"Location\",\"Result\")\n",
        "s_int = pd.Series([1,2,3,4,5,6,7,8,9]) \n",
        "print(s_int)\n",
        "\n",
        "s_name = pd.Series([\"Esteban\", \"Luisa\", \"Tatiana\"])\n",
        "print(s_name)"
      ],
      "metadata": {
        "colab": {
          "base_uri": "https://localhost:8080/"
        },
        "id": "yAiF7jaJvwNt",
        "outputId": "9d669928-eabd-40c7-e533-54cd34f38ef4"
      },
      "execution_count": null,
      "outputs": [
        {
          "output_type": "stream",
          "name": "stdout",
          "text": [
            "Location Result\n",
            "0    1\n",
            "1    2\n",
            "2    3\n",
            "3    4\n",
            "4    5\n",
            "5    6\n",
            "6    7\n",
            "7    8\n",
            "8    9\n",
            "dtype: int64\n",
            "0    Esteban\n",
            "1      Luisa\n",
            "2    Tatiana\n",
            "dtype: object\n"
          ]
        }
      ]
    },
    {
      "cell_type": "code",
      "source": [
        "# Cr\n",
        "s_rand = pd.Series (np.random.rand(10))\n",
        "print(s_rand)"
      ],
      "metadata": {
        "colab": {
          "base_uri": "https://localhost:8080/"
        },
        "id": "W74b62VowOZt",
        "outputId": "288b0d09-e16a-4bf0-81b0-64be0ca8d836"
      },
      "execution_count": null,
      "outputs": [
        {
          "output_type": "stream",
          "name": "stdout",
          "text": [
            "0    0.670013\n",
            "1    0.610049\n",
            "2    0.524273\n",
            "3    0.278968\n",
            "4    0.689108\n",
            "5    0.448189\n",
            "6    0.638758\n",
            "7    0.548528\n",
            "8    0.655970\n",
            "9    0.523332\n",
            "dtype: float64\n"
          ]
        }
      ]
    },
    {
      "cell_type": "markdown",
      "source": [
        "## 2.2 Indexing"
      ],
      "metadata": {
        "id": "DLKOQFIbyx3V"
      }
    },
    {
      "cell_type": "code",
      "source": [
        "# Check the index of a series\n",
        "\n",
        "s_rand.index"
      ],
      "metadata": {
        "colab": {
          "base_uri": "https://localhost:8080/"
        },
        "id": "V43KzFVqyold",
        "outputId": "5088bb13-ef94-46ff-b7f5-7c21f83b2e8e"
      },
      "execution_count": null,
      "outputs": [
        {
          "output_type": "execute_result",
          "data": {
            "text/plain": [
              "RangeIndex(start=0, stop=10, step=1)"
            ]
          },
          "metadata": {},
          "execution_count": 16
        }
      ]
    },
    {
      "cell_type": "code",
      "source": [
        "# Create your own index\n",
        "new_index = [\"A\", \"B\", \"C\"]\n",
        "s_name= s_name.set_axis(new_index)\n",
        "print(s_name)\n"
      ],
      "metadata": {
        "colab": {
          "base_uri": "https://localhost:8080/"
        },
        "id": "tla473-hzGFu",
        "outputId": "99f2a951-a2c4-4053-fb48-62cc5c1e05cb"
      },
      "execution_count": null,
      "outputs": [
        {
          "output_type": "stream",
          "name": "stdout",
          "text": [
            "A    Esteban\n",
            "B      Luisa\n",
            "C    Tatiana\n",
            "dtype: object\n"
          ]
        }
      ]
    },
    {
      "cell_type": "markdown",
      "source": [
        "## 2.3 Select and Slice"
      ],
      "metadata": {
        "id": "G92HIpAH25LE"
      }
    },
    {
      "cell_type": "code",
      "source": [
        "#Simple selection\n",
        "s_name[\"A\"]"
      ],
      "metadata": {
        "colab": {
          "base_uri": "https://localhost:8080/",
          "height": 35
        },
        "id": "Grl-gEqGzp9r",
        "outputId": "d4eaa7f1-43ca-4534-f9db-7e7b93d0528f"
      },
      "execution_count": null,
      "outputs": [
        {
          "output_type": "execute_result",
          "data": {
            "text/plain": [
              "'Esteban'"
            ],
            "application/vnd.google.colaboratory.intrinsic+json": {
              "type": "string"
            }
          },
          "metadata": {},
          "execution_count": 23
        }
      ]
    },
    {
      "cell_type": "code",
      "source": [
        "# select diferent elements \n",
        "s_rand[[4,6]]"
      ],
      "metadata": {
        "colab": {
          "base_uri": "https://localhost:8080/"
        },
        "id": "y0Z6gdFE3HSs",
        "outputId": "d5a90ea5-3a97-46f7-fe63-6223f51a7f41"
      },
      "execution_count": null,
      "outputs": [
        {
          "output_type": "execute_result",
          "data": {
            "text/plain": [
              "4    0.689108\n",
              "6    0.638758\n",
              "dtype: float64"
            ]
          },
          "metadata": {},
          "execution_count": 24
        }
      ]
    },
    {
      "cell_type": "code",
      "source": [
        "# Anothe way\n",
        "\n",
        "s_rand[:3]"
      ],
      "metadata": {
        "colab": {
          "base_uri": "https://localhost:8080/"
        },
        "id": "2RL6iYo-3wPK",
        "outputId": "1f9136c1-e97e-4558-cf46-520c837e1548"
      },
      "execution_count": null,
      "outputs": [
        {
          "output_type": "execute_result",
          "data": {
            "text/plain": [
              "0    0.670013\n",
              "1    0.610049\n",
              "2    0.524273\n",
              "dtype: float64"
            ]
          },
          "metadata": {},
          "execution_count": 28
        }
      ]
    },
    {
      "cell_type": "markdown",
      "source": [
        "# **3. Pandas time-series**"
      ],
      "metadata": {
        "id": "88H56rrWxuUi"
      }
    },
    {
      "cell_type": "markdown",
      "source": [
        "## 3.1 Indexing Pandas time-series|"
      ],
      "metadata": {
        "id": "kloOh0MPx7PJ"
      }
    },
    {
      "cell_type": "code",
      "source": [
        "# Create a date range \n",
        "\n",
        "pd.date_range(start = \"01/01/2023\", end = \"28/03/2023\")"
      ],
      "metadata": {
        "colab": {
          "base_uri": "https://localhost:8080/"
        },
        "id": "TM5i10ZPyFb5",
        "outputId": "14fb6822-4eff-4532-84d8-b77bf4d38fdf"
      },
      "execution_count": 2,
      "outputs": [
        {
          "output_type": "stream",
          "name": "stderr",
          "text": [
            "/usr/local/lib/python3.9/dist-packages/IPython/core/interactiveshell.py:3326: UserWarning: Parsing '28/03/2023' in DD/MM/YYYY format. Provide format or specify infer_datetime_format=True for consistent parsing.\n",
            "  exec(code_obj, self.user_global_ns, self.user_ns)\n"
          ]
        },
        {
          "output_type": "execute_result",
          "data": {
            "text/plain": [
              "DatetimeIndex(['2023-01-01', '2023-01-02', '2023-01-03', '2023-01-04',\n",
              "               '2023-01-05', '2023-01-06', '2023-01-07', '2023-01-08',\n",
              "               '2023-01-09', '2023-01-10', '2023-01-11', '2023-01-12',\n",
              "               '2023-01-13', '2023-01-14', '2023-01-15', '2023-01-16',\n",
              "               '2023-01-17', '2023-01-18', '2023-01-19', '2023-01-20',\n",
              "               '2023-01-21', '2023-01-22', '2023-01-23', '2023-01-24',\n",
              "               '2023-01-25', '2023-01-26', '2023-01-27', '2023-01-28',\n",
              "               '2023-01-29', '2023-01-30', '2023-01-31', '2023-02-01',\n",
              "               '2023-02-02', '2023-02-03', '2023-02-04', '2023-02-05',\n",
              "               '2023-02-06', '2023-02-07', '2023-02-08', '2023-02-09',\n",
              "               '2023-02-10', '2023-02-11', '2023-02-12', '2023-02-13',\n",
              "               '2023-02-14', '2023-02-15', '2023-02-16', '2023-02-17',\n",
              "               '2023-02-18', '2023-02-19', '2023-02-20', '2023-02-21',\n",
              "               '2023-02-22', '2023-02-23', '2023-02-24', '2023-02-25',\n",
              "               '2023-02-26', '2023-02-27', '2023-02-28', '2023-03-01',\n",
              "               '2023-03-02', '2023-03-03', '2023-03-04', '2023-03-05',\n",
              "               '2023-03-06', '2023-03-07', '2023-03-08', '2023-03-09',\n",
              "               '2023-03-10', '2023-03-11', '2023-03-12', '2023-03-13',\n",
              "               '2023-03-14', '2023-03-15', '2023-03-16', '2023-03-17',\n",
              "               '2023-03-18', '2023-03-19', '2023-03-20', '2023-03-21',\n",
              "               '2023-03-22', '2023-03-23', '2023-03-24', '2023-03-25',\n",
              "               '2023-03-26', '2023-03-27', '2023-03-28'],\n",
              "              dtype='datetime64[ns]', freq='D')"
            ]
          },
          "metadata": {},
          "execution_count": 2
        }
      ]
    },
    {
      "cell_type": "code",
      "source": [
        "# Another way\n",
        "pd.date_range(start = \"01/01/2023\", periods = 32)"
      ],
      "metadata": {
        "colab": {
          "base_uri": "https://localhost:8080/"
        },
        "id": "lw7iFPaFzdSI",
        "outputId": "3fe063e3-445d-4448-fdce-a26861ae2e88"
      },
      "execution_count": 3,
      "outputs": [
        {
          "output_type": "execute_result",
          "data": {
            "text/plain": [
              "DatetimeIndex(['2023-01-01', '2023-01-02', '2023-01-03', '2023-01-04',\n",
              "               '2023-01-05', '2023-01-06', '2023-01-07', '2023-01-08',\n",
              "               '2023-01-09', '2023-01-10', '2023-01-11', '2023-01-12',\n",
              "               '2023-01-13', '2023-01-14', '2023-01-15', '2023-01-16',\n",
              "               '2023-01-17', '2023-01-18', '2023-01-19', '2023-01-20',\n",
              "               '2023-01-21', '2023-01-22', '2023-01-23', '2023-01-24',\n",
              "               '2023-01-25', '2023-01-26', '2023-01-27', '2023-01-28',\n",
              "               '2023-01-29', '2023-01-30', '2023-01-31', '2023-02-01'],\n",
              "              dtype='datetime64[ns]', freq='D')"
            ]
          },
          "metadata": {},
          "execution_count": 3
        }
      ]
    },
    {
      "cell_type": "code",
      "source": [
        "# another another way \n",
        "\n",
        "pd.date_range(start = \"01/01/2023\", periods = 32, freq = \"Q\")"
      ],
      "metadata": {
        "colab": {
          "base_uri": "https://localhost:8080/"
        },
        "id": "H6ingIGZz13B",
        "outputId": "91dfae9a-a41a-4438-ff9e-5a0738cd8ac5"
      },
      "execution_count": 10,
      "outputs": [
        {
          "output_type": "execute_result",
          "data": {
            "text/plain": [
              "DatetimeIndex(['2023-03-31', '2023-06-30', '2023-09-30', '2023-12-31',\n",
              "               '2024-03-31', '2024-06-30', '2024-09-30', '2024-12-31',\n",
              "               '2025-03-31', '2025-06-30', '2025-09-30', '2025-12-31',\n",
              "               '2026-03-31', '2026-06-30', '2026-09-30', '2026-12-31',\n",
              "               '2027-03-31', '2027-06-30', '2027-09-30', '2027-12-31',\n",
              "               '2028-03-31', '2028-06-30', '2028-09-30', '2028-12-31',\n",
              "               '2029-03-31', '2029-06-30', '2029-09-30', '2029-12-31',\n",
              "               '2030-03-31', '2030-06-30', '2030-09-30', '2030-12-31'],\n",
              "              dtype='datetime64[ns]', freq='Q-DEC')"
            ]
          },
          "metadata": {},
          "execution_count": 10
        }
      ]
    },
    {
      "cell_type": "markdown",
      "source": [
        "## 3.2 Aasgin a time-serie index\n",
        "\n"
      ],
      "metadata": {
        "id": "kweTnmHe1Fb-"
      }
    },
    {
      "cell_type": "code",
      "source": [
        "# Create dates\n",
        "\n",
        "my_dates = pd.date_range(start = \"01/03/2023\", periods =15)\n",
        "\n",
        "#Create an object \n",
        "sales = pd.Series(np.random.randint(low = 200, high = 250, size = 15),\n",
        "                  index = my_dates)\n",
        "\n",
        "print(sales)"
      ],
      "metadata": {
        "colab": {
          "base_uri": "https://localhost:8080/"
        },
        "id": "prr1MO4S1QbW",
        "outputId": "b12f59ee-2c99-48bf-e1f0-db3b4d313d39"
      },
      "execution_count": 16,
      "outputs": [
        {
          "output_type": "stream",
          "name": "stdout",
          "text": [
            "2023-01-03    241\n",
            "2023-01-04    230\n",
            "2023-01-05    217\n",
            "2023-01-06    247\n",
            "2023-01-07    204\n",
            "2023-01-08    209\n",
            "2023-01-09    242\n",
            "2023-01-10    208\n",
            "2023-01-11    216\n",
            "2023-01-12    243\n",
            "2023-01-13    240\n",
            "2023-01-14    249\n",
            "2023-01-15    208\n",
            "2023-01-16    216\n",
            "2023-01-17    242\n",
            "Freq: D, dtype: int64\n"
          ]
        }
      ]
    },
    {
      "cell_type": "markdown",
      "source": [
        "# **4.Practical case- simulation**\n",
        "\n"
      ],
      "metadata": {
        "id": "87oMhHVo2qE-"
      }
    },
    {
      "cell_type": "markdown",
      "source": [
        "# 4.2 Create the simulation\n",
        "\n",
        "A simulation of the price a financial asset.\n",
        "\n",
        "* Firts, create the dates:\n",
        "\n"
      ],
      "metadata": {
        "id": "0wHiLRaU29xG"
      }
    },
    {
      "cell_type": "code",
      "source": [
        "## Create a dalay series of date from 2021 until today \n",
        "\n",
        "#Saves \"Today\"\n",
        "\n",
        "td = pd.to_datetime(\"today\").strftime(\"%m/%d/%Y\")\n",
        "\n",
        "#Create the date range\n",
        "\n",
        "dr = pd.date_range(start = \"01/01/2021\", end = td)\n",
        "nd = len(dr)"
      ],
      "metadata": {
        "id": "Vlixn8yI3YDr"
      },
      "execution_count": 36,
      "outputs": []
    },
    {
      "cell_type": "markdown",
      "source": [
        "* Second, simulate the price"
      ],
      "metadata": {
        "id": "f4xuz4P753Fn"
      }
    },
    {
      "cell_type": "code",
      "source": [
        "# price with returns ~ N(mu,sigma^2)\n",
        "\n",
        "# Moments\n",
        "\n",
        "mu = 0.001; sigma = 0.01\n",
        "##Returns \n",
        "r = np.random.normal(mu, sigma, size = nd)\n",
        "\n",
        "## Price\n",
        "s = np.empty(nd)\n",
        "s[0] = 100\n",
        "\n",
        "for i in range(1,nd):\n",
        "  s[i] = s[i-1]*np.exp(r[i])"
      ],
      "metadata": {
        "id": "oeFPuI3e57bQ"
      },
      "execution_count": 37,
      "outputs": []
    },
    {
      "cell_type": "markdown",
      "source": [
        "* third, put together dates and prices"
      ],
      "metadata": {
        "id": "aJuDJeHV7Y_1"
      }
    },
    {
      "cell_type": "code",
      "source": [
        "# Create the time series \n",
        "s = pd.Series(s , index = dr)\n",
        "s.head()"
      ],
      "metadata": {
        "colab": {
          "base_uri": "https://localhost:8080/"
        },
        "id": "G_vv6Nc87k1S",
        "outputId": "ebb4954b-17a3-4fc4-b3c5-6d633f8b3c8f"
      },
      "execution_count": 41,
      "outputs": [
        {
          "output_type": "execute_result",
          "data": {
            "text/plain": [
              "2021-01-01    100.000000\n",
              "2021-01-02    101.165371\n",
              "2021-01-03     99.518601\n",
              "2021-01-04    100.329909\n",
              "2021-01-05     98.823775\n",
              "Freq: D, dtype: float64"
            ]
          },
          "metadata": {},
          "execution_count": 41
        }
      ]
    },
    {
      "cell_type": "code",
      "source": [
        "import matplotlib.pyplot as plt"
      ],
      "metadata": {
        "id": "X_33N5uN8Ccb"
      },
      "execution_count": 47,
      "outputs": []
    },
    {
      "cell_type": "code",
      "source": [
        "plt.plot(s)\n",
        "plt.show()"
      ],
      "metadata": {
        "colab": {
          "base_uri": "https://localhost:8080/",
          "height": 265
        },
        "id": "s4OAcM7k8PRT",
        "outputId": "c47962a3-8ee3-4de7-cc59-1d1a3933c8d2"
      },
      "execution_count": 48,
      "outputs": [
        {
          "output_type": "display_data",
          "data": {
            "text/plain": [
              "<Figure size 432x288 with 1 Axes>"
            ],
            "image/png": "[encoded data removed]"
          },
          "metadata": {
            "needs_background": "light"
          }
        }
      ]
    },
    {
      "cell_type": "code",
      "source": [],
      "metadata": {
        "id": "6Equ6oD08ecT"
      },
      "execution_count": null,
      "outputs": []
    }
  ]
}