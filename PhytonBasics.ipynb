{
  "nbformat": 4,
  "nbformat_minor": 0,
  "metadata": {
    "colab": {
      "provenance": [],
      "authorship_tag": "ABX9TyO8D14u4+OAgxgYe5eJ+KLD",
      "include_colab_link": true
    },
    "kernelspec": {
      "name": "python3",
      "display_name": "Python 3"
    },
    "language_info": {
      "name": "python"
    }
  },
  "cells": [
    {
      "cell_type": "markdown",
      "metadata": {
        "id": "view-in-github",
        "colab_type": "text"
      },
      "source": [
        "<a href=\"https://colab.research.google.com/github/Felipehl04/CODES-OF-DATA-VISTUALIZATION-/blob/main/PhytonBasics.ipynb\" target=\"_parent\"><img src=\"https://colab.research.google.com/assets/colab-badge.svg\" alt=\"Open In Colab\"/></a>"
      ]
    },
    {
      "cell_type": "code",
      "execution_count": null,
      "metadata": {
        "id": "75RX1X69jucg"
      },
      "outputs": [],
      "source": []
    },
    {
      "cell_type": "markdown",
      "source": [
        "#INTRODUCTION \n",
        "\n",
        "HERE IN THIS FILE, WE ARE GOING TO *CODE*\n",
        "\n",
        "WE ARE GOING TO UNDERSTAND Python, how it works, and some tricks.\n"
      ],
      "metadata": {
        "id": "1HhiQHSYkE1X"
      }
    },
    {
      "cell_type": "markdown",
      "source": [
        "#1. what is Phyton \n",
        "\n",
        "it was created in 1991 and it is a **General-purpouse programming lenguage**\n",
        "\n",
        "This mean that pyton is used for:\n",
        "\n",
        "*Data analysis\n",
        "*automating task\n",
        "*machinne learning\n",
        "*Data visualizattion\n",
        "*Optimization\n",
        "*Web Development\n",
        "*User interfaces creation\n",
        "*Create another software\n",
        "*Create video games\n",
        "\n",
        "The wolrd runs on Python (++, java and HTLM / CSS, and R?"
      ],
      "metadata": {
        "id": "nJVvJeWKkYM1"
      }
    },
    {
      "cell_type": "markdown",
      "source": [
        "#2. Why pyhton \n",
        "\n",
        "the main reasons:\n",
        "\n",
        "*it is simple\n",
        "*Focus\n",
        "*Easy to learn\n",
        "*Open-source: it is free.\n",
        "*Cross-plataform\n",
        "*Extense libraries.\n",
        "\n",
        "\n"
      ],
      "metadata": {
        "id": "gDSwCpF3ltkC"
      }
    },
    {
      "cell_type": "markdown",
      "source": [
        "# 3. Getting Started "
      ],
      "metadata": {
        "id": "mwPO2e_gmwb7"
      }
    },
    {
      "cell_type": "markdown",
      "source": [
        "## 3.1 Pyton as a Calculator\n"
      ],
      "metadata": {
        "id": "yFQWFdcJmz3l"
      }
    },
    {
      "cell_type": "code",
      "source": [
        "# Addition\n",
        "2 + 2"
      ],
      "metadata": {
        "colab": {
          "base_uri": "https://localhost:8080/"
        },
        "id": "J9YkhqydnFPb",
        "outputId": "d6a4a0c0-e8ce-48f9-b78b-be0d9503cb67"
      },
      "execution_count": null,
      "outputs": [
        {
          "output_type": "execute_result",
          "data": {
            "text/plain": [
              "4"
            ]
          },
          "metadata": {},
          "execution_count": 1
        }
      ]
    },
    {
      "cell_type": "code",
      "source": [
        "# Subtraction\n",
        "23 - 7\n"
      ],
      "metadata": {
        "colab": {
          "base_uri": "https://localhost:8080/"
        },
        "id": "Qt7m4iSVoFcY",
        "outputId": "caaa87ed-e79d-46af-ed44-cd13c9701f51"
      },
      "execution_count": null,
      "outputs": [
        {
          "output_type": "execute_result",
          "data": {
            "text/plain": [
              "16"
            ]
          },
          "metadata": {},
          "execution_count": 2
        }
      ]
    },
    {
      "cell_type": "code",
      "source": [
        "# Multiplication\n",
        "13 * 7"
      ],
      "metadata": {
        "colab": {
          "base_uri": "https://localhost:8080/"
        },
        "id": "m5sUE6nZoQgK",
        "outputId": "7784568e-6b1e-4ec0-f3c4-75ec98a98f3f"
      },
      "execution_count": null,
      "outputs": [
        {
          "output_type": "execute_result",
          "data": {
            "text/plain": [
              "91"
            ]
          },
          "metadata": {},
          "execution_count": 3
        }
      ]
    },
    {
      "cell_type": "code",
      "source": [
        "# Division\n",
        "10 / 3"
      ],
      "metadata": {
        "colab": {
          "base_uri": "https://localhost:8080/"
        },
        "id": "OEG9IWGooVQL",
        "outputId": "de878ebf-8b2c-4de0-df73-b47185986b22"
      },
      "execution_count": null,
      "outputs": [
        {
          "output_type": "execute_result",
          "data": {
            "text/plain": [
              "3.3333333333333335"
            ]
          },
          "metadata": {},
          "execution_count": 4
        }
      ]
    },
    {
      "cell_type": "code",
      "source": [
        "# Integer division\n",
        "10 // 3"
      ],
      "metadata": {
        "colab": {
          "base_uri": "https://localhost:8080/"
        },
        "id": "UeDvWVe-oqMp",
        "outputId": "580c15f0-3eed-4f1c-bba3-8f4c490b67cc"
      },
      "execution_count": null,
      "outputs": [
        {
          "output_type": "execute_result",
          "data": {
            "text/plain": [
              "3"
            ]
          },
          "metadata": {},
          "execution_count": 5
        }
      ]
    },
    {
      "cell_type": "code",
      "source": [
        "# Exponnential\n",
        "2**3\n"
      ],
      "metadata": {
        "colab": {
          "base_uri": "https://localhost:8080/"
        },
        "id": "Qbunv372hrSz",
        "outputId": "37d47890-56dc-439b-db1a-4e13f2a03807"
      },
      "execution_count": 1,
      "outputs": [
        {
          "output_type": "execute_result",
          "data": {
            "text/plain": [
              "8"
            ]
          },
          "metadata": {},
          "execution_count": 1
        }
      ]
    },
    {
      "cell_type": "markdown",
      "source": [
        "## 3.2 COMPOSITE OPERTAIONS AND PARENTHESIS\n",
        "\n",
        "Operator precedence \n"
      ],
      "metadata": {
        "id": "IxBGxUJoiEss"
      }
    },
    {
      "cell_type": "code",
      "source": [
        "# Example \n",
        "2 + 3*4"
      ],
      "metadata": {
        "colab": {
          "base_uri": "https://localhost:8080/"
        },
        "id": "An589kMHiPcZ",
        "outputId": "93b4c8ba-9aab-46e3-f869-9b0455c953d8"
      },
      "execution_count": 2,
      "outputs": [
        {
          "output_type": "execute_result",
          "data": {
            "text/plain": [
              "14"
            ]
          },
          "metadata": {},
          "execution_count": 2
        }
      ]
    },
    {
      "cell_type": "markdown",
      "source": [
        "You can change the operator precendece using **parenthesis**\n",
        "\n"
      ],
      "metadata": {
        "id": "9s1-sKd8iebh"
      }
    },
    {
      "cell_type": "code",
      "source": [
        "# Example\n",
        "(2 + 3)*4 "
      ],
      "metadata": {
        "colab": {
          "base_uri": "https://localhost:8080/"
        },
        "id": "zlUWyYCqin-1",
        "outputId": "ff306ccf-317d-4764-d46d-9595cf472707"
      },
      "execution_count": 3,
      "outputs": [
        {
          "output_type": "execute_result",
          "data": {
            "text/plain": [
              "20"
            ]
          },
          "metadata": {},
          "execution_count": 3
        }
      ]
    },
    {
      "cell_type": "markdown",
      "source": [
        "## 3.3 Integers and Real Numbers\n",
        "\n"
      ],
      "metadata": {
        "id": "jikbRdjIi9jI"
      }
    },
    {
      "cell_type": "code",
      "source": [
        "# Intengers (whit no decimal positions)\n",
        "type(26)"
      ],
      "metadata": {
        "colab": {
          "base_uri": "https://localhost:8080/"
        },
        "id": "1gYhi8fuj6ZQ",
        "outputId": "afb128b5-d147-4b23-a2a6-062b7f028102"
      },
      "execution_count": 4,
      "outputs": [
        {
          "output_type": "execute_result",
          "data": {
            "text/plain": [
              "int"
            ]
          },
          "metadata": {},
          "execution_count": 4
        }
      ]
    },
    {
      "cell_type": "code",
      "source": [
        "# Real number (with decimal positions)\n",
        "type (26.0)"
      ],
      "metadata": {
        "colab": {
          "base_uri": "https://localhost:8080/"
        },
        "id": "E3I1zoTIkOV6",
        "outputId": "b622c955-a081-49b5-c2fe-2a53f0c3905a"
      },
      "execution_count": 9,
      "outputs": [
        {
          "output_type": "execute_result",
          "data": {
            "text/plain": [
              "float"
            ]
          },
          "metadata": {},
          "execution_count": 9
        }
      ]
    },
    {
      "cell_type": "code",
      "source": [
        "# Examples\n",
        "# Find out if the next expressions are int or floats\n",
        "2 + 3.0\n",
        "2.5*7\n",
        "4.0/2\n",
        "\n",
        "\n"
      ],
      "metadata": {
        "id": "ft6zISEykuW6"
      },
      "execution_count": null,
      "outputs": []
    },
    {
      "cell_type": "code",
      "source": [
        "type(2 + 3.0)"
      ],
      "metadata": {
        "colab": {
          "base_uri": "https://localhost:8080/"
        },
        "id": "X0N9MdZPlE2x",
        "outputId": "95e7395c-0578-43e3-e37e-54d87f3a526a"
      },
      "execution_count": 14,
      "outputs": [
        {
          "output_type": "execute_result",
          "data": {
            "text/plain": [
              "float"
            ]
          },
          "metadata": {},
          "execution_count": 14
        }
      ]
    },
    {
      "cell_type": "code",
      "source": [
        "type(2.5*7)"
      ],
      "metadata": {
        "colab": {
          "base_uri": "https://localhost:8080/"
        },
        "id": "0Z6mhTQ_ljua",
        "outputId": "1b5af214-83c2-4f5e-b3c4-4c84e46f0d9b"
      },
      "execution_count": 16,
      "outputs": [
        {
          "output_type": "execute_result",
          "data": {
            "text/plain": [
              "float"
            ]
          },
          "metadata": {},
          "execution_count": 16
        }
      ]
    },
    {
      "cell_type": "code",
      "source": [
        "type(4.0/2)"
      ],
      "metadata": {
        "colab": {
          "base_uri": "https://localhost:8080/"
        },
        "id": "3Gisr15RlqNL",
        "outputId": "6fad05f2-26a0-403a-b5ea-8e34a9a81f5d"
      },
      "execution_count": 18,
      "outputs": [
        {
          "output_type": "execute_result",
          "data": {
            "text/plain": [
              "float"
            ]
          },
          "metadata": {},
          "execution_count": 18
        }
      ]
    },
    {
      "cell_type": "markdown",
      "source": [
        "## Scientific notation \n"
      ],
      "metadata": {
        "id": "fgLFO-wJmYkG"
      }
    },
    {
      "cell_type": "code",
      "source": [
        "# Example\n",
        "5e1"
      ],
      "metadata": {
        "colab": {
          "base_uri": "https://localhost:8080/"
        },
        "id": "Uzs1YqSLoEff",
        "outputId": "7389d035-1203-44c0-f98c-c870f21c475a"
      },
      "execution_count": 19,
      "outputs": [
        {
          "output_type": "execute_result",
          "data": {
            "text/plain": [
              "50.0"
            ]
          },
          "metadata": {},
          "execution_count": 19
        }
      ]
    },
    {
      "cell_type": "code",
      "source": [
        "# Example \n",
        "6e-2"
      ],
      "metadata": {
        "colab": {
          "base_uri": "https://localhost:8080/"
        },
        "id": "TMc1uu6aoWn1",
        "outputId": "28685eb6-ea90-4163-cc88-cd81b937a47c"
      },
      "execution_count": 20,
      "outputs": [
        {
          "output_type": "execute_result",
          "data": {
            "text/plain": [
              "0.06"
            ]
          },
          "metadata": {},
          "execution_count": 20
        }
      ]
    },
    {
      "cell_type": "code",
      "source": [
        "type (5e1)"
      ],
      "metadata": {
        "colab": {
          "base_uri": "https://localhost:8080/"
        },
        "id": "xKaHoM1Zokqp",
        "outputId": "07e9e96c-3ac4-48ad-d3ed-ca468aff3903"
      },
      "execution_count": 21,
      "outputs": [
        {
          "output_type": "execute_result",
          "data": {
            "text/plain": [
              "float"
            ]
          },
          "metadata": {},
          "execution_count": 21
        }
      ]
    },
    {
      "cell_type": "code",
      "source": [
        "# Practica\n",
        "#write 1millon in scientific notation\n",
        "#what is the result of 3e.02\n",
        "\n"
      ],
      "metadata": {
        "id": "j9LwBu6Uoypv"
      },
      "execution_count": null,
      "outputs": []
    },
    {
      "cell_type": "code",
      "source": [
        "#write 1millon in scientific notation\n",
        "1e6\n"
      ],
      "metadata": {
        "colab": {
          "base_uri": "https://localhost:8080/"
        },
        "id": "2-NsMUiXpAY6",
        "outputId": "5b2e9cee-943a-4c56-afde-d8770df2c6dc"
      },
      "execution_count": 26,
      "outputs": [
        {
          "output_type": "execute_result",
          "data": {
            "text/plain": [
              "1000000.0"
            ]
          },
          "metadata": {},
          "execution_count": 26
        }
      ]
    },
    {
      "cell_type": "code",
      "source": [
        "#what is the result of 3e0.2\n",
        "3.e0.2"
      ],
      "metadata": {
        "colab": {
          "base_uri": "https://localhost:8080/",
          "height": 130
        },
        "id": "dvs5AGyCpgmy",
        "outputId": "d5e6af68-352d-4b98-b4f7-cfdf39a05d1d"
      },
      "execution_count": 28,
      "outputs": [
        {
          "output_type": "error",
          "ename": "SyntaxError",
          "evalue": "ignored",
          "traceback": [
            "\u001b[0;36m  File \u001b[0;32m\"<ipython-input-28-b6580a318757>\"\u001b[0;36m, line \u001b[0;32m2\u001b[0m\n\u001b[0;31m    3.e0.2\u001b[0m\n\u001b[0m        ^\u001b[0m\n\u001b[0;31mSyntaxError\u001b[0m\u001b[0;31m:\u001b[0m invalid syntax\n"
          ]
        }
      ]
    },
    {
      "cell_type": "code",
      "source": [
        "### Transformation\n",
        " You can changue the Type() of a number. or you can force a Type() of a number  "
      ],
      "metadata": {
        "id": "aOCHorqUqb1u"
      },
      "execution_count": null,
      "outputs": []
    },
    {
      "cell_type": "code",
      "source": [
        "float(6)\n"
      ],
      "metadata": {
        "colab": {
          "base_uri": "https://localhost:8080/"
        },
        "id": "iSUxSvKgq0k8",
        "outputId": "840a8bde-123b-4e35-f643-ebc9530a7ec9"
      },
      "execution_count": 29,
      "outputs": [
        {
          "output_type": "execute_result",
          "data": {
            "text/plain": [
              "6.0"
            ]
          },
          "metadata": {},
          "execution_count": 29
        }
      ]
    },
    {
      "cell_type": "code",
      "source": [
        "#Example \n",
        "int(3.33333)"
      ],
      "metadata": {
        "colab": {
          "base_uri": "https://localhost:8080/"
        },
        "id": "wby5Kxtpq36a",
        "outputId": "fa952d4c-932c-429a-c9c5-df85b60e483e"
      },
      "execution_count": 30,
      "outputs": [
        {
          "output_type": "execute_result",
          "data": {
            "text/plain": [
              "3"
            ]
          },
          "metadata": {},
          "execution_count": 30
        }
      ]
    }
  ]
}