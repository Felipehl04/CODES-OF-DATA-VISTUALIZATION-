{
  "nbformat": 4,
  "nbformat_minor": 0,
  "metadata": {
    "colab": {
      "provenance": [],
      "authorship_tag": "ABX9TyMWAHhlH7w+YTIh6CCEnAoH",
      "include_colab_link": true
    },
    "kernelspec": {
      "name": "python3",
      "display_name": "Python 3"
    },
    "language_info": {
      "name": "python"
    }
  },
  "cells": [
    {
      "cell_type": "markdown",
      "metadata": {
        "id": "view-in-github",
        "colab_type": "text"
      },
      "source": [
        "<a href=\"https://colab.research.google.com/github/Felipehl04/CODES-OF-DATA-VISTUALIZATION-/blob/main/PhytonBasics.ipynb\" target=\"_parent\"><img src=\"https://colab.research.google.com/assets/colab-badge.svg\" alt=\"Open In Colab\"/></a>"
      ]
    },
    {
      "cell_type": "code",
      "execution_count": null,
      "metadata": {
        "id": "75RX1X69jucg"
      },
      "outputs": [],
      "source": []
    },
    {
      "cell_type": "markdown",
      "source": [
        "#INTRODUCTION \n",
        "\n",
        "HERE IN THIS FILE, WE ARE GOING TO *CODE*\n",
        "\n",
        "WE ARE GOING TO UNDERSTAND Python, how it works, and some tricks.\n"
      ],
      "metadata": {
        "id": "1HhiQHSYkE1X"
      }
    },
    {
      "cell_type": "markdown",
      "source": [
        "#1. what is Phyton \n",
        "\n",
        "it was created in 1991 and it is a **General-purpouse programming lenguage**\n",
        "\n",
        "This mean that pyton is used for:\n",
        "\n",
        "*Data analysis\n",
        "*automating task\n",
        "*machinne learning\n",
        "*Data visualizattion\n",
        "*Optimization\n",
        "*Web Development\n",
        "*User interfaces creation\n",
        "*Create another software\n",
        "*Create video games\n",
        "\n",
        "The wolrd runs on Python (++, java and HTLM / CSS, and R?"
      ],
      "metadata": {
        "id": "nJVvJeWKkYM1"
      }
    },
    {
      "cell_type": "markdown",
      "source": [
        "#2. Why pyhton \n",
        "\n",
        "the main reasons:\n",
        "\n",
        "*it is simple\n",
        "*Focus\n",
        "*Easy to learn\n",
        "*Open-source: it is free.\n",
        "*Cross-plataform\n",
        "*Extense libraries.\n",
        "\n",
        "\n"
      ],
      "metadata": {
        "id": "gDSwCpF3ltkC"
      }
    },
    {
      "cell_type": "markdown",
      "source": [
        "# 3. Getting Started "
      ],
      "metadata": {
        "id": "mwPO2e_gmwb7"
      }
    },
    {
      "cell_type": "markdown",
      "source": [
        "## 3.1 Pyton as a Calculator\n"
      ],
      "metadata": {
        "id": "yFQWFdcJmz3l"
      }
    },
    {
      "cell_type": "code",
      "source": [
        "# Addition\n",
        "2 + 2"
      ],
      "metadata": {
        "colab": {
          "base_uri": "https://localhost:8080/"
        },
        "id": "J9YkhqydnFPb",
        "outputId": "d6a4a0c0-e8ce-48f9-b78b-be0d9503cb67"
      },
      "execution_count": null,
      "outputs": [
        {
          "output_type": "execute_result",
          "data": {
            "text/plain": [
              "4"
            ]
          },
          "metadata": {},
          "execution_count": 1
        }
      ]
    },
    {
      "cell_type": "code",
      "source": [
        "# Subtraction\n",
        "23 - 7\n"
      ],
      "metadata": {
        "colab": {
          "base_uri": "https://localhost:8080/"
        },
        "id": "Qt7m4iSVoFcY",
        "outputId": "caaa87ed-e79d-46af-ed44-cd13c9701f51"
      },
      "execution_count": null,
      "outputs": [
        {
          "output_type": "execute_result",
          "data": {
            "text/plain": [
              "16"
            ]
          },
          "metadata": {},
          "execution_count": 2
        }
      ]
    },
    {
      "cell_type": "code",
      "source": [
        "# Multiplication\n",
        "13 * 7"
      ],
      "metadata": {
        "colab": {
          "base_uri": "https://localhost:8080/"
        },
        "id": "m5sUE6nZoQgK",
        "outputId": "7784568e-6b1e-4ec0-f3c4-75ec98a98f3f"
      },
      "execution_count": null,
      "outputs": [
        {
          "output_type": "execute_result",
          "data": {
            "text/plain": [
              "91"
            ]
          },
          "metadata": {},
          "execution_count": 3
        }
      ]
    },
    {
      "cell_type": "code",
      "source": [
        "# Division\n",
        "10 / 3"
      ],
      "metadata": {
        "colab": {
          "base_uri": "https://localhost:8080/"
        },
        "id": "OEG9IWGooVQL",
        "outputId": "de878ebf-8b2c-4de0-df73-b47185986b22"
      },
      "execution_count": null,
      "outputs": [
        {
          "output_type": "execute_result",
          "data": {
            "text/plain": [
              "3.3333333333333335"
            ]
          },
          "metadata": {},
          "execution_count": 4
        }
      ]
    },
    {
      "cell_type": "code",
      "source": [
        "# Integer division\n",
        "10 // 3"
      ],
      "metadata": {
        "colab": {
          "base_uri": "https://localhost:8080/"
        },
        "id": "UeDvWVe-oqMp",
        "outputId": "580c15f0-3eed-4f1c-bba3-8f4c490b67cc"
      },
      "execution_count": null,
      "outputs": [
        {
          "output_type": "execute_result",
          "data": {
            "text/plain": [
              "3"
            ]
          },
          "metadata": {},
          "execution_count": 5
        }
      ]
    },
    {
      "cell_type": "code",
      "source": [
        "# Exponnential\n",
        "2**3\n"
      ],
      "metadata": {
        "colab": {
          "base_uri": "https://localhost:8080/"
        },
        "id": "Qbunv372hrSz",
        "outputId": "37d47890-56dc-439b-db1a-4e13f2a03807"
      },
      "execution_count": null,
      "outputs": [
        {
          "output_type": "execute_result",
          "data": {
            "text/plain": [
              "8"
            ]
          },
          "metadata": {},
          "execution_count": 1
        }
      ]
    },
    {
      "cell_type": "markdown",
      "source": [
        "## 3.2 COMPOSITE OPERTAIONS AND PARENTHESIS\n",
        "\n",
        "Operator precedence \n"
      ],
      "metadata": {
        "id": "IxBGxUJoiEss"
      }
    },
    {
      "cell_type": "code",
      "source": [
        "# Example \n",
        "2 + 3*4"
      ],
      "metadata": {
        "colab": {
          "base_uri": "https://localhost:8080/"
        },
        "id": "An589kMHiPcZ",
        "outputId": "93b4c8ba-9aab-46e3-f869-9b0455c953d8"
      },
      "execution_count": null,
      "outputs": [
        {
          "output_type": "execute_result",
          "data": {
            "text/plain": [
              "14"
            ]
          },
          "metadata": {},
          "execution_count": 2
        }
      ]
    },
    {
      "cell_type": "markdown",
      "source": [
        "You can change the operator precendece using **parenthesis**\n",
        "\n"
      ],
      "metadata": {
        "id": "9s1-sKd8iebh"
      }
    },
    {
      "cell_type": "code",
      "source": [
        "# Example\n",
        "(2 + 3)*4 "
      ],
      "metadata": {
        "colab": {
          "base_uri": "https://localhost:8080/"
        },
        "id": "zlUWyYCqin-1",
        "outputId": "ff306ccf-317d-4764-d46d-9595cf472707"
      },
      "execution_count": null,
      "outputs": [
        {
          "output_type": "execute_result",
          "data": {
            "text/plain": [
              "20"
            ]
          },
          "metadata": {},
          "execution_count": 3
        }
      ]
    },
    {
      "cell_type": "markdown",
      "source": [
        "## 3.3 Integers and Real Numbers\n",
        "\n"
      ],
      "metadata": {
        "id": "jikbRdjIi9jI"
      }
    },
    {
      "cell_type": "code",
      "source": [
        "# Intengers (whit no decimal positions)\n",
        "type(26)"
      ],
      "metadata": {
        "colab": {
          "base_uri": "https://localhost:8080/"
        },
        "id": "1gYhi8fuj6ZQ",
        "outputId": "afb128b5-d147-4b23-a2a6-062b7f028102"
      },
      "execution_count": null,
      "outputs": [
        {
          "output_type": "execute_result",
          "data": {
            "text/plain": [
              "int"
            ]
          },
          "metadata": {},
          "execution_count": 4
        }
      ]
    },
    {
      "cell_type": "code",
      "source": [
        "# Real number (with decimal positions)\n",
        "type (26.0)"
      ],
      "metadata": {
        "colab": {
          "base_uri": "https://localhost:8080/"
        },
        "id": "E3I1zoTIkOV6",
        "outputId": "b622c955-a081-49b5-c2fe-2a53f0c3905a"
      },
      "execution_count": null,
      "outputs": [
        {
          "output_type": "execute_result",
          "data": {
            "text/plain": [
              "float"
            ]
          },
          "metadata": {},
          "execution_count": 9
        }
      ]
    },
    {
      "cell_type": "code",
      "source": [
        "# Examples\n",
        "# Find out if the next expressions are int or floats\n",
        "2 + 3.0\n",
        "2.5*7\n",
        "4.0/2\n",
        "\n",
        "\n"
      ],
      "metadata": {
        "id": "ft6zISEykuW6"
      },
      "execution_count": null,
      "outputs": []
    },
    {
      "cell_type": "code",
      "source": [
        "type(2 + 3.0)"
      ],
      "metadata": {
        "colab": {
          "base_uri": "https://localhost:8080/"
        },
        "id": "X0N9MdZPlE2x",
        "outputId": "95e7395c-0578-43e3-e37e-54d87f3a526a"
      },
      "execution_count": null,
      "outputs": [
        {
          "output_type": "execute_result",
          "data": {
            "text/plain": [
              "float"
            ]
          },
          "metadata": {},
          "execution_count": 14
        }
      ]
    },
    {
      "cell_type": "code",
      "source": [
        "type(2.5*7)"
      ],
      "metadata": {
        "colab": {
          "base_uri": "https://localhost:8080/"
        },
        "id": "0Z6mhTQ_ljua",
        "outputId": "1b5af214-83c2-4f5e-b3c4-4c84e46f0d9b"
      },
      "execution_count": null,
      "outputs": [
        {
          "output_type": "execute_result",
          "data": {
            "text/plain": [
              "float"
            ]
          },
          "metadata": {},
          "execution_count": 16
        }
      ]
    },
    {
      "cell_type": "code",
      "source": [
        "type(4.0/2)"
      ],
      "metadata": {
        "colab": {
          "base_uri": "https://localhost:8080/"
        },
        "id": "3Gisr15RlqNL",
        "outputId": "6fad05f2-26a0-403a-b5ea-8e34a9a81f5d"
      },
      "execution_count": null,
      "outputs": [
        {
          "output_type": "execute_result",
          "data": {
            "text/plain": [
              "float"
            ]
          },
          "metadata": {},
          "execution_count": 18
        }
      ]
    },
    {
      "cell_type": "markdown",
      "source": [
        "## Scientific notation \n"
      ],
      "metadata": {
        "id": "fgLFO-wJmYkG"
      }
    },
    {
      "cell_type": "code",
      "source": [
        "# Example\n",
        "5e1"
      ],
      "metadata": {
        "colab": {
          "base_uri": "https://localhost:8080/"
        },
        "id": "Uzs1YqSLoEff",
        "outputId": "7389d035-1203-44c0-f98c-c870f21c475a"
      },
      "execution_count": null,
      "outputs": [
        {
          "output_type": "execute_result",
          "data": {
            "text/plain": [
              "50.0"
            ]
          },
          "metadata": {},
          "execution_count": 19
        }
      ]
    },
    {
      "cell_type": "code",
      "source": [
        "# Example \n",
        "6e-2"
      ],
      "metadata": {
        "colab": {
          "base_uri": "https://localhost:8080/"
        },
        "id": "TMc1uu6aoWn1",
        "outputId": "28685eb6-ea90-4163-cc88-cd81b937a47c"
      },
      "execution_count": null,
      "outputs": [
        {
          "output_type": "execute_result",
          "data": {
            "text/plain": [
              "0.06"
            ]
          },
          "metadata": {},
          "execution_count": 20
        }
      ]
    },
    {
      "cell_type": "code",
      "source": [
        "type (5e1)"
      ],
      "metadata": {
        "colab": {
          "base_uri": "https://localhost:8080/"
        },
        "id": "xKaHoM1Zokqp",
        "outputId": "07e9e96c-3ac4-48ad-d3ed-ca468aff3903"
      },
      "execution_count": null,
      "outputs": [
        {
          "output_type": "execute_result",
          "data": {
            "text/plain": [
              "float"
            ]
          },
          "metadata": {},
          "execution_count": 21
        }
      ]
    },
    {
      "cell_type": "code",
      "source": [
        "# Practica\n",
        "#write 1millon in scientific notation\n",
        "#what is the result of 3e.02\n",
        "\n"
      ],
      "metadata": {
        "id": "j9LwBu6Uoypv"
      },
      "execution_count": null,
      "outputs": []
    },
    {
      "cell_type": "code",
      "source": [
        "#write 1millon in scientific notation\n",
        "1e6\n"
      ],
      "metadata": {
        "colab": {
          "base_uri": "https://localhost:8080/"
        },
        "id": "2-NsMUiXpAY6",
        "outputId": "5b2e9cee-943a-4c56-afde-d8770df2c6dc"
      },
      "execution_count": null,
      "outputs": [
        {
          "output_type": "execute_result",
          "data": {
            "text/plain": [
              "1000000.0"
            ]
          },
          "metadata": {},
          "execution_count": 26
        }
      ]
    },
    {
      "cell_type": "code",
      "source": [
        "#what is the result of 3e0.2\n",
        "3.e0.2"
      ],
      "metadata": {
        "colab": {
          "base_uri": "https://localhost:8080/",
          "height": 130
        },
        "id": "dvs5AGyCpgmy",
        "outputId": "d5e6af68-352d-4b98-b4f7-cfdf39a05d1d"
      },
      "execution_count": null,
      "outputs": [
        {
          "output_type": "error",
          "ename": "SyntaxError",
          "evalue": "ignored",
          "traceback": [
            "\u001b[0;36m  File \u001b[0;32m\"<ipython-input-28-b6580a318757>\"\u001b[0;36m, line \u001b[0;32m2\u001b[0m\n\u001b[0;31m    3.e0.2\u001b[0m\n\u001b[0m        ^\u001b[0m\n\u001b[0;31mSyntaxError\u001b[0m\u001b[0;31m:\u001b[0m invalid syntax\n"
          ]
        }
      ]
    },
    {
      "cell_type": "code",
      "source": [
        "### Transformation\n",
        " You can changue the Type() of a number. or you can force a Type() of a number  "
      ],
      "metadata": {
        "id": "aOCHorqUqb1u"
      },
      "execution_count": null,
      "outputs": []
    },
    {
      "cell_type": "code",
      "source": [
        "float(6)\n"
      ],
      "metadata": {
        "colab": {
          "base_uri": "https://localhost:8080/"
        },
        "id": "iSUxSvKgq0k8",
        "outputId": "840a8bde-123b-4e35-f643-ebc9530a7ec9"
      },
      "execution_count": null,
      "outputs": [
        {
          "output_type": "execute_result",
          "data": {
            "text/plain": [
              "6.0"
            ]
          },
          "metadata": {},
          "execution_count": 29
        }
      ]
    },
    {
      "cell_type": "code",
      "source": [
        "#Example \n",
        "int(3.33333)"
      ],
      "metadata": {
        "id": "wby5Kxtpq36a",
        "outputId": "fa952d4c-932c-429a-c9c5-df85b60e483e",
        "colab": {
          "base_uri": "https://localhost:8080/"
        }
      },
      "execution_count": null,
      "outputs": [
        {
          "output_type": "execute_result",
          "data": {
            "text/plain": [
              "3"
            ]
          },
          "metadata": {},
          "execution_count": 30
        }
      ]
    },
    {
      "cell_type": "markdown",
      "source": [
        "## 3.4 Basic and useful fuctions\n",
        "\n",
        "Fuctioms lets us do things more efficiently."
      ],
      "metadata": {
        "id": "qp65E35KdTcB"
      }
    },
    {
      "cell_type": "markdown",
      "source": [
        "### **print**\n"
      ],
      "metadata": {
        "id": "0LiTzmfLeRDo"
      }
    },
    {
      "cell_type": "code",
      "source": [
        "#Example whit numbers\n",
        "print(2023)\n",
        "print(2024)\n",
        "print(22,2,2022)"
      ],
      "metadata": {
        "colab": {
          "base_uri": "https://localhost:8080/"
        },
        "id": "HEo-i3IjeV6M",
        "outputId": "c64ec13c-44d1-4222-8ef0-6a195b96de7e"
      },
      "execution_count": 8,
      "outputs": [
        {
          "output_type": "stream",
          "name": "stdout",
          "text": [
            "2023\n",
            "2024\n",
            "22 2 2022\n"
          ]
        }
      ]
    },
    {
      "cell_type": "code",
      "source": [
        "## EXAMPLE\n",
        "for i in range (0,11): print(i)"
      ],
      "metadata": {
        "colab": {
          "base_uri": "https://localhost:8080/"
        },
        "id": "Xu7ljq6zglkr",
        "outputId": "200bfb0c-e16d-4780-9049-9a09f5595004"
      },
      "execution_count": 9,
      "outputs": [
        {
          "output_type": "stream",
          "name": "stdout",
          "text": [
            "0\n",
            "1\n",
            "2\n",
            "3\n",
            "4\n",
            "5\n",
            "6\n",
            "7\n",
            "8\n",
            "9\n",
            "10\n"
          ]
        }
      ]
    },
    {
      "cell_type": "code",
      "source": [
        "# EXAMPLE - WHIT TEXT\n",
        "print(\"HELLO WOLD\")\n",
        "print(\"Fisrt name: juan\",\"Second Name:Felipe\")\n",
        "print(\"Fisrt name: juan\",\"\\tSecond Name:Felipe\") \n",
        "print(\"Fisrt name: juan\",\"\\nSecond Name:Felipe\")"
      ],
      "metadata": {
        "colab": {
          "base_uri": "https://localhost:8080/"
        },
        "id": "2Zr4BzHAhUxz",
        "outputId": "c290bdd8-c28d-4947-acfd-8106fc4a511f"
      },
      "execution_count": 13,
      "outputs": [
        {
          "output_type": "stream",
          "name": "stdout",
          "text": [
            "HELLO WOLD\n",
            "Fisrt name: juan Second Name:Felipe\n",
            "Fisrt name: juan \tSecond Name:Felipe\n",
            "Fisrt name: juan \n",
            "Second Name:Felipe\n"
          ]
        }
      ]
    },
    {
      "cell_type": "code",
      "source": [
        "# Eample - Text and numbers\n",
        "print(\"My lucky number is:\", 88)"
      ],
      "metadata": {
        "colab": {
          "base_uri": "https://localhost:8080/"
        },
        "id": "5WwRok_nixYu",
        "outputId": "0e944208-53bd-4556-91bf-d5db1fc8770a"
      },
      "execution_count": 14,
      "outputs": [
        {
          "output_type": "stream",
          "name": "stdout",
          "text": [
            "My lucky number is: 88\n"
          ]
        }
      ]
    },
    {
      "cell_type": "markdown",
      "source": [
        "### **Round**\n",
        "\n",
        "It will tle us to control the decimal positions. "
      ],
      "metadata": {
        "id": "71KIfSJvjArC"
      }
    },
    {
      "cell_type": "code",
      "source": [
        "# Example \n",
        "# Consider 8.53214794\n",
        "# Let´s use round\n",
        "\n",
        "round(8.53214794,0)"
      ],
      "metadata": {
        "colab": {
          "base_uri": "https://localhost:8080/"
        },
        "id": "BJGTmjCOjMB-",
        "outputId": "f62bad4f-bc73-493a-bdbd-81765f9128f7"
      },
      "execution_count": 16,
      "outputs": [
        {
          "output_type": "execute_result",
          "data": {
            "text/plain": [
              "9.0"
            ]
          },
          "metadata": {},
          "execution_count": 16
        }
      ]
    },
    {
      "cell_type": "code",
      "source": [
        "#EXAMPLE 1\n",
        "print(round(8.53214794,0))\n",
        "print(int (round(8.53214794,0)))\n",
        "#EXAMPLE 2\n",
        "print(\"The approximation of\",8.53214794, \"whit\",0,\"decimal is\",round(8.53214794,0))\n",
        "#EXAMPLE 3\n",
        "print(\"The approximation of\",8.53214794, \"whit\",1,\"decimal is\",round(8.53214794,1))"
      ],
      "metadata": {
        "colab": {
          "base_uri": "https://localhost:8080/"
        },
        "id": "iCNak3Q1kN8z",
        "outputId": "1a0ae927-8b66-4fcc-ecce-00db403adfb2"
      },
      "execution_count": 26,
      "outputs": [
        {
          "output_type": "stream",
          "name": "stdout",
          "text": [
            "9.0\n",
            "9\n",
            "The approximation of 8.53214794 whit 0 decimal is 9.0\n",
            "The approximation of 8.53214794 whit 1 decimal is 8.5\n"
          ]
        }
      ]
    },
    {
      "cell_type": "code",
      "source": [
        "print(\"The approximation of\",8.53214794, \"by adding adding consecutively decimal is:\")\n",
        "print(0,\"\\t\",round(8.53214794,0))\n",
        "print(1,\"\\t\",round(8.53214794,1))\n",
        "print(2,\"\\t\",round(8.53214794,2))\n",
        "print(3,\"\\t\",round(8.53214794,3))"
      ],
      "metadata": {
        "colab": {
          "base_uri": "https://localhost:8080/"
        },
        "id": "RtLQR0jsmqmf",
        "outputId": "ebe9477d-949e-4e3a-82f2-3abf6bc72ffb"
      },
      "execution_count": 36,
      "outputs": [
        {
          "output_type": "stream",
          "name": "stdout",
          "text": [
            "The approximation of 8.53214794 by adding adding consecutively decimal is:\n",
            "0 \t 9.0\n",
            "1 \t 8.5\n",
            "2 \t 8.53\n",
            "3 \t 8.532\n"
          ]
        }
      ]
    },
    {
      "cell_type": "code",
      "source": [
        "print(\"The approximation of\",8.53214794, \"by adding adding consecutively decimal is:\")\n",
        "for i in range(0,8):print(i, \"\\t\",round(8.53214794,i))"
      ],
      "metadata": {
        "colab": {
          "base_uri": "https://localhost:8080/"
        },
        "id": "bdRVBU25pPnF",
        "outputId": "d0bddf94-39ae-4658-9b2b-66e24721acaa"
      },
      "execution_count": 53,
      "outputs": [
        {
          "output_type": "stream",
          "name": "stdout",
          "text": [
            "The approximation of 8.53214794 by adding adding consecutively decimal is:\n",
            "0 \t 9.0\n",
            "1 \t 8.5\n",
            "2 \t 8.53\n",
            "3 \t 8.532\n",
            "4 \t 8.5321\n",
            "5 \t 8.53215\n",
            "6 \t 8.532148\n",
            "7 \t 8.5321479\n"
          ]
        }
      ]
    },
    {
      "cell_type": "code",
      "source": [
        "print(\"The 100 multples of 2\")\n",
        "for i in range(1,101):print(i, \"\\t\",2*i)\n"
      ],
      "metadata": {
        "colab": {
          "base_uri": "https://localhost:8080/"
        },
        "id": "BFfNiVDbstzH",
        "outputId": "ba35859c-3916-4f49-da94-9fad102fa7c6"
      },
      "execution_count": 62,
      "outputs": [
        {
          "output_type": "stream",
          "name": "stdout",
          "text": [
            "The 100 multples of 2\n",
            "1 \t 2\n",
            "2 \t 4\n",
            "3 \t 6\n",
            "4 \t 8\n",
            "5 \t 10\n",
            "6 \t 12\n",
            "7 \t 14\n",
            "8 \t 16\n",
            "9 \t 18\n",
            "10 \t 20\n",
            "11 \t 22\n",
            "12 \t 24\n",
            "13 \t 26\n",
            "14 \t 28\n",
            "15 \t 30\n",
            "16 \t 32\n",
            "17 \t 34\n",
            "18 \t 36\n",
            "19 \t 38\n",
            "20 \t 40\n",
            "21 \t 42\n",
            "22 \t 44\n",
            "23 \t 46\n",
            "24 \t 48\n",
            "25 \t 50\n",
            "26 \t 52\n",
            "27 \t 54\n",
            "28 \t 56\n",
            "29 \t 58\n",
            "30 \t 60\n",
            "31 \t 62\n",
            "32 \t 64\n",
            "33 \t 66\n",
            "34 \t 68\n",
            "35 \t 70\n",
            "36 \t 72\n",
            "37 \t 74\n",
            "38 \t 76\n",
            "39 \t 78\n",
            "40 \t 80\n",
            "41 \t 82\n",
            "42 \t 84\n",
            "43 \t 86\n",
            "44 \t 88\n",
            "45 \t 90\n",
            "46 \t 92\n",
            "47 \t 94\n",
            "48 \t 96\n",
            "49 \t 98\n",
            "50 \t 100\n",
            "51 \t 102\n",
            "52 \t 104\n",
            "53 \t 106\n",
            "54 \t 108\n",
            "55 \t 110\n",
            "56 \t 112\n",
            "57 \t 114\n",
            "58 \t 116\n",
            "59 \t 118\n",
            "60 \t 120\n",
            "61 \t 122\n",
            "62 \t 124\n",
            "63 \t 126\n",
            "64 \t 128\n",
            "65 \t 130\n",
            "66 \t 132\n",
            "67 \t 134\n",
            "68 \t 136\n",
            "69 \t 138\n",
            "70 \t 140\n",
            "71 \t 142\n",
            "72 \t 144\n",
            "73 \t 146\n",
            "74 \t 148\n",
            "75 \t 150\n",
            "76 \t 152\n",
            "77 \t 154\n",
            "78 \t 156\n",
            "79 \t 158\n",
            "80 \t 160\n",
            "81 \t 162\n",
            "82 \t 164\n",
            "83 \t 166\n",
            "84 \t 168\n",
            "85 \t 170\n",
            "86 \t 172\n",
            "87 \t 174\n",
            "88 \t 176\n",
            "89 \t 178\n",
            "90 \t 180\n",
            "91 \t 182\n",
            "92 \t 184\n",
            "93 \t 186\n",
            "94 \t 188\n",
            "95 \t 190\n",
            "96 \t 192\n",
            "97 \t 194\n",
            "98 \t 196\n",
            "99 \t 198\n",
            "100 \t 200\n",
            "1 \t 7\n",
            "2 \t 12\n",
            "3 \t 17\n",
            "4 \t 22\n",
            "5 \t 27\n",
            "6 \t 32\n",
            "7 \t 37\n",
            "8 \t 42\n",
            "9 \t 47\n"
          ]
        }
      ]
    },
    {
      "cell_type": "code",
      "source": [],
      "metadata": {
        "id": "KCRafHjDsobJ"
      },
      "execution_count": null,
      "outputs": []
    },
    {
      "cell_type": "code",
      "source": [
        "for i in range(1,10):print(i, \"\\t\",2*i+5/2)"
      ],
      "metadata": {
        "colab": {
          "base_uri": "https://localhost:8080/"
        },
        "id": "SdAGg3sdvuor",
        "outputId": "b7a632e8-2dd5-476c-8fbe-09f3b5f3b9e0"
      },
      "execution_count": 64,
      "outputs": [
        {
          "output_type": "stream",
          "name": "stdout",
          "text": [
            "1 \t 4.5\n",
            "2 \t 6.5\n",
            "3 \t 8.5\n",
            "4 \t 10.5\n",
            "5 \t 12.5\n",
            "6 \t 14.5\n",
            "7 \t 16.5\n",
            "8 \t 18.5\n",
            "9 \t 20.5\n"
          ]
        }
      ]
    }
  ]
}