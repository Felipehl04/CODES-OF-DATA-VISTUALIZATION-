{
  "nbformat": 4,
  "nbformat_minor": 0,
  "metadata": {
    "colab": {
      "provenance": [],
      "authorship_tag": "ABX9TyMuR46zrIMUo9rsWQPF230H",
      "include_colab_link": true
    },
    "kernelspec": {
      "name": "python3",
      "display_name": "Python 3"
    },
    "language_info": {
      "name": "python"
    }
  },
  "cells": [
    {
      "cell_type": "markdown",
      "metadata": {
        "id": "view-in-github",
        "colab_type": "text"
      },
      "source": [
        "<a href=\"https://colab.research.google.com/github/Felipehl04/CODES-OF-DATA-VISTUALIZATION-/blob/main/PhytonBasics.ipynb\" target=\"_parent\"><img src=\"https://colab.research.google.com/assets/colab-badge.svg\" alt=\"Open In Colab\"/></a>"
      ]
    },
    {
      "cell_type": "code",
      "execution_count": null,
      "metadata": {
        "id": "75RX1X69jucg"
      },
      "outputs": [],
      "source": []
    },
    {
      "cell_type": "markdown",
      "source": [
        "#INTRODUCTION \n",
        "\n",
        "HERE IN THIS FILE, WE ARE GOING TO *CODE*\n",
        "\n",
        "WE ARE GOING TO UNDERSTAND Python, how it works, and some tricks.\n"
      ],
      "metadata": {
        "id": "1HhiQHSYkE1X"
      }
    },
    {
      "cell_type": "markdown",
      "source": [
        "#1. what is Phyton \n",
        "\n",
        "it was created in 1991 and it is a **General-purpouse programming lenguage**\n",
        "\n",
        "This mean that pyton is used for:\n",
        "\n",
        "*Data analysis\n",
        "*automating task\n",
        "*machinne learning\n",
        "*Data visualizattion\n",
        "*Optimization\n",
        "*Web Development\n",
        "*User interfaces creation\n",
        "*Create another software\n",
        "*Create video games\n",
        "\n",
        "The wolrd runs on Python (++, java and HTLM / CSS, and R?"
      ],
      "metadata": {
        "id": "nJVvJeWKkYM1"
      }
    },
    {
      "cell_type": "markdown",
      "source": [
        "#2. Why pyhton \n",
        "\n",
        "the main reasons:\n",
        "\n",
        "*it is simple\n",
        "*Focus\n",
        "*Easy to learn\n",
        "*Open-source: it is free.\n",
        "*Cross-plataform\n",
        "*Extense libraries.\n",
        "\n",
        "\n"
      ],
      "metadata": {
        "id": "gDSwCpF3ltkC"
      }
    },
    {
      "cell_type": "markdown",
      "source": [
        "# 3. Getting Started "
      ],
      "metadata": {
        "id": "mwPO2e_gmwb7"
      }
    },
    {
      "cell_type": "markdown",
      "source": [
        "## 3.1 Pyton as a Calculator\n"
      ],
      "metadata": {
        "id": "yFQWFdcJmz3l"
      }
    },
    {
      "cell_type": "code",
      "source": [
        "# Addition\n",
        "2 + 2"
      ],
      "metadata": {
        "colab": {
          "base_uri": "https://localhost:8080/"
        },
        "id": "J9YkhqydnFPb",
        "outputId": "d6a4a0c0-e8ce-48f9-b78b-be0d9503cb67"
      },
      "execution_count": 1,
      "outputs": [
        {
          "output_type": "execute_result",
          "data": {
            "text/plain": [
              "4"
            ]
          },
          "metadata": {},
          "execution_count": 1
        }
      ]
    },
    {
      "cell_type": "code",
      "source": [
        "# Subtraction\n",
        "23 - 7\n"
      ],
      "metadata": {
        "colab": {
          "base_uri": "https://localhost:8080/"
        },
        "id": "Qt7m4iSVoFcY",
        "outputId": "caaa87ed-e79d-46af-ed44-cd13c9701f51"
      },
      "execution_count": 2,
      "outputs": [
        {
          "output_type": "execute_result",
          "data": {
            "text/plain": [
              "16"
            ]
          },
          "metadata": {},
          "execution_count": 2
        }
      ]
    },
    {
      "cell_type": "code",
      "source": [
        "# Multiplication\n",
        "13 * 7"
      ],
      "metadata": {
        "colab": {
          "base_uri": "https://localhost:8080/"
        },
        "id": "m5sUE6nZoQgK",
        "outputId": "7784568e-6b1e-4ec0-f3c4-75ec98a98f3f"
      },
      "execution_count": 3,
      "outputs": [
        {
          "output_type": "execute_result",
          "data": {
            "text/plain": [
              "91"
            ]
          },
          "metadata": {},
          "execution_count": 3
        }
      ]
    },
    {
      "cell_type": "code",
      "source": [
        "# Division\n",
        "10 / 3"
      ],
      "metadata": {
        "colab": {
          "base_uri": "https://localhost:8080/"
        },
        "id": "OEG9IWGooVQL",
        "outputId": "de878ebf-8b2c-4de0-df73-b47185986b22"
      },
      "execution_count": 4,
      "outputs": [
        {
          "output_type": "execute_result",
          "data": {
            "text/plain": [
              "3.3333333333333335"
            ]
          },
          "metadata": {},
          "execution_count": 4
        }
      ]
    },
    {
      "cell_type": "code",
      "source": [
        "# Integer division\n",
        "10 // 3"
      ],
      "metadata": {
        "colab": {
          "base_uri": "https://localhost:8080/"
        },
        "id": "UeDvWVe-oqMp",
        "outputId": "580c15f0-3eed-4f1c-bba3-8f4c490b67cc"
      },
      "execution_count": 5,
      "outputs": [
        {
          "output_type": "execute_result",
          "data": {
            "text/plain": [
              "3"
            ]
          },
          "metadata": {},
          "execution_count": 5
        }
      ]
    }
  ]
}