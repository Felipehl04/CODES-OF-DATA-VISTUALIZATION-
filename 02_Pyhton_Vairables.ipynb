{
  "nbformat": 4,
  "nbformat_minor": 0,
  "metadata": {
    "colab": {
      "provenance": [],
      "authorship_tag": "ABX9TyNdOJSKP17xcVCe8vmXHJ2B",
      "include_colab_link": true
    },
    "kernelspec": {
      "name": "python3",
      "display_name": "Python 3"
    },
    "language_info": {
      "name": "python"
    }
  },
  "cells": [
    {
      "cell_type": "markdown",
      "metadata": {
        "id": "view-in-github",
        "colab_type": "text"
      },
      "source": [
        "<a href=\"https://colab.research.google.com/github/Felipehl04/CODES-OF-DATA-VISTUALIZATION-/blob/main/02_Pyhton_Vairables.ipynb\" target=\"_parent\"><img src=\"https://colab.research.google.com/assets/colab-badge.svg\" alt=\"Open In Colab\"/></a>"
      ]
    },
    {
      "cell_type": "markdown",
      "source": [
        "# **1. What is a variable?**\n",
        "A variable is a ¨Container¨, in the sense that it *stores* valeus.\n",
        "\n"
      ],
      "metadata": {
        "id": "byCHZzsgwlTp"
      }
    },
    {
      "cell_type": "code",
      "source": [
        "#Example  \n",
        "a = 2.57\n",
        "print(\"The approximation of\",8.53214794, \"by adding adding consecutively decimal is:\")\n",
        "for i in range(0,8):print(i, \"\\t\",round(8.53214794,i))"
      ],
      "metadata": {
        "id": "UpKgAKwrxLdC"
      },
      "execution_count": null,
      "outputs": []
    },
    {
      "cell_type": "code",
      "source": [
        "#Example\n",
        "num = 8.53214794\n",
        "pi = 0\n",
        "pf = 7"
      ],
      "metadata": {
        "id": "5vKUha_ByJvP"
      },
      "execution_count": 15,
      "outputs": []
    },
    {
      "cell_type": "code",
      "source": [
        "print(\"The approximation of\",num, \"by adding adding consecutively decimal is:\")\n",
        "for i in range(pi,pf+1):print(i, \"\\t\",round(num,i)) "
      ],
      "metadata": {
        "colab": {
          "base_uri": "https://localhost:8080/"
        },
        "id": "PrdomLFCxHrl",
        "outputId": "96117954-d3a0-409e-a8f9-1e7ad11de2dd"
      },
      "execution_count": 16,
      "outputs": [
        {
          "output_type": "stream",
          "name": "stdout",
          "text": [
            "The approximation of 8.53214794 by adding adding consecutively decimal is:\n",
            "0 \t 9.0\n",
            "1 \t 8.5\n",
            "2 \t 8.53\n",
            "3 \t 8.532\n",
            "4 \t 8.5321\n",
            "5 \t 8.53215\n",
            "6 \t 8.532148\n",
            "7 \t 8.5321479\n"
          ]
        }
      ]
    }
  ]
}