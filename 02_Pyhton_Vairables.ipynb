{
  "nbformat": 4,
  "nbformat_minor": 0,
  "metadata": {
    "colab": {
      "provenance": [],
      "authorship_tag": "ABX9TyMZuJxBZo2Ra2hjPSTDsSyv",
      "include_colab_link": true
    },
    "kernelspec": {
      "name": "python3",
      "display_name": "Python 3"
    },
    "language_info": {
      "name": "python"
    }
  },
  "cells": [
    {
      "cell_type": "markdown",
      "metadata": {
        "id": "view-in-github",
        "colab_type": "text"
      },
      "source": [
        "<a href=\"https://colab.research.google.com/github/Felipehl04/CODES-OF-DATA-VISTUALIZATION-/blob/main/02_Pyhton_Vairables.ipynb\" target=\"_parent\"><img src=\"https://colab.research.google.com/assets/colab-badge.svg\" alt=\"Open In Colab\"/></a>"
      ]
    },
    {
      "cell_type": "markdown",
      "source": [
        "# **1. What is a variable?**\n",
        "A variable is a ¨Container¨, in the sense that it *stores* valeus.\n",
        "\n"
      ],
      "metadata": {
        "id": "byCHZzsgwlTp"
      }
    },
    {
      "cell_type": "markdown",
      "source": [
        "## **2. Declaration**"
      ],
      "metadata": {
        "id": "BipkzJUSod_K"
      }
    },
    {
      "cell_type": "code",
      "source": [
        "#Example  \n",
        "a = 2.57\n",
        "print(\"The approximation of\",8.53214794, \"by adding adding consecutively decimal is:\")\n",
        "for i in range(0,8):print(i, \"\\t\",round(8.53214794,i))"
      ],
      "metadata": {
        "id": "UpKgAKwrxLdC",
        "colab": {
          "base_uri": "https://localhost:8080/"
        },
        "outputId": "af61b5dc-5244-4805-8b1e-3b89c3add265"
      },
      "execution_count": 1,
      "outputs": [
        {
          "output_type": "stream",
          "name": "stdout",
          "text": [
            "The approximation of 8.53214794 by adding adding consecutively decimal is:\n",
            "0 \t 9.0\n",
            "1 \t 8.5\n",
            "2 \t 8.53\n",
            "3 \t 8.532\n",
            "4 \t 8.5321\n",
            "5 \t 8.53215\n",
            "6 \t 8.532148\n",
            "7 \t 8.5321479\n"
          ]
        }
      ]
    },
    {
      "cell_type": "code",
      "source": [
        "#Example\n",
        "num = 8.53214794\n",
        "pi = 0\n",
        "pf = 7"
      ],
      "metadata": {
        "id": "5vKUha_ByJvP"
      },
      "execution_count": 2,
      "outputs": []
    },
    {
      "cell_type": "code",
      "source": [
        "print(\"The approximation of\",num, \"by adding adding consecutively decimal is:\")\n",
        "for i in range(pi,pf+1):print(i, \"\\t\",round(num,i)) "
      ],
      "metadata": {
        "colab": {
          "base_uri": "https://localhost:8080/"
        },
        "id": "PrdomLFCxHrl",
        "outputId": "8029f111-942f-4e1b-b346-eda2b98d9f1b"
      },
      "execution_count": 3,
      "outputs": [
        {
          "output_type": "stream",
          "name": "stdout",
          "text": [
            "The approximation of 8.53214794 by adding adding consecutively decimal is:\n",
            "0 \t 9.0\n",
            "1 \t 8.5\n",
            "2 \t 8.53\n",
            "3 \t 8.532\n",
            "4 \t 8.5321\n",
            "5 \t 8.53215\n",
            "6 \t 8.532148\n",
            "7 \t 8.5321479\n"
          ]
        }
      ]
    },
    {
      "cell_type": "code",
      "source": [
        "# Example\n",
        "x = y = z = 45\n",
        "print(x,y,z)"
      ],
      "metadata": {
        "colab": {
          "base_uri": "https://localhost:8080/"
        },
        "id": "CK4hojldowhN",
        "outputId": "52539497-d45b-4fdf-ea29-4e1d6accb90d"
      },
      "execution_count": 32,
      "outputs": [
        {
          "output_type": "stream",
          "name": "stdout",
          "text": [
            "45 45 45\n"
          ]
        }
      ]
    },
    {
      "cell_type": "code",
      "source": [
        "# Example - remplace values\n",
        "z = 17"
      ],
      "metadata": {
        "id": "-WL23k45pCP2"
      },
      "execution_count": 10,
      "outputs": []
    },
    {
      "cell_type": "markdown",
      "source": [
        "# **3. Delet and Clear**"
      ],
      "metadata": {
        "id": "sgynHynaphjP"
      }
    },
    {
      "cell_type": "code",
      "source": [
        "# Example - delete\n",
        "\n",
        "del x, y\n"
      ],
      "metadata": {
        "id": "VdjRwke5pjVk"
      },
      "execution_count": 33,
      "outputs": []
    },
    {
      "cell_type": "code",
      "source": [
        "#Example - Clear\n",
        "\n",
        "%reset"
      ],
      "metadata": {
        "colab": {
          "base_uri": "https://localhost:8080/"
        },
        "id": "vmtaH82KqFoJ",
        "outputId": "0596ce9b-11f2-46fc-acf2-6ef6dab06671"
      },
      "execution_count": 19,
      "outputs": [
        {
          "name": "stdout",
          "output_type": "stream",
          "text": [
            "Once deleted, variables cannot be recovered. Proceed (y/[n])? y\n"
          ]
        }
      ]
    },
    {
      "cell_type": "markdown",
      "source": [
        "# **4. Naming** "
      ],
      "metadata": {
        "id": "zuZW0EHSqY8I"
      }
    },
    {
      "cell_type": "markdown",
      "source": [
        "## 4.1 Conditions and restrictions \n"
      ],
      "metadata": {
        "id": "BbiQpgfkqgWK"
      }
    },
    {
      "cell_type": "code",
      "source": [
        "# Example - always a name of varibale must start with a  letter \n",
        "\n",
        "age = 18 "
      ],
      "metadata": {
        "id": "nVouf9hiqniX"
      },
      "execution_count": 26,
      "outputs": []
    },
    {
      "cell_type": "markdown",
      "source": [
        "## 4.2 Best practices \n",
        "\n",
        "*Case sensitive "
      ],
      "metadata": {
        "id": "grNvDmN-rLrY"
      }
    },
    {
      "cell_type": "code",
      "source": [
        "# Example\n",
        "\n",
        "Age = 78\n",
        "AGE = 23\n",
        "# Sug: always use lower case\n"
      ],
      "metadata": {
        "id": "l2ZK8y2NrWlA"
      },
      "execution_count": 27,
      "outputs": []
    },
    {
      "cell_type": "markdown",
      "source": [
        "* COMPOUND NAMES"
      ],
      "metadata": {
        "id": "0wE7Ky9cr08W"
      }
    },
    {
      "cell_type": "code",
      "source": [
        "# Example\n",
        "\n",
        "price_jean = 150000\n"
      ],
      "metadata": {
        "id": "u3-NND2tr4_m"
      },
      "execution_count": 35,
      "outputs": []
    },
    {
      "cell_type": "markdown",
      "source": [
        "**5. Data Types**"
      ],
      "metadata": {
        "id": "o93criFXsils"
      }
    },
    {
      "cell_type": "markdown",
      "source": [
        "**5.1 integers**"
      ],
      "metadata": {
        "id": "L85zbCWBstvx"
      }
    },
    {
      "cell_type": "markdown",
      "source": [
        "**5.2 Float**"
      ],
      "metadata": {
        "id": "ZrOZsGqts0_q"
      }
    },
    {
      "cell_type": "markdown",
      "source": [
        "**Patenthesis:** A trick"
      ],
      "metadata": {
        "id": "5ngntIies5Ij"
      }
    },
    {
      "cell_type": "code",
      "source": [
        "# Example - set up\n",
        "\n",
        "w=0"
      ],
      "metadata": {
        "id": "A1g9ydh3s_Kl"
      },
      "execution_count": 40,
      "outputs": []
    },
    {
      "cell_type": "code",
      "source": [
        "# Example\n",
        "\n",
        "w -= 2\n",
        "print(w)"
      ],
      "metadata": {
        "colab": {
          "base_uri": "https://localhost:8080/"
        },
        "id": "Fe2jnlCctFBN",
        "outputId": "1281d789-6ecd-4ec0-ad7c-492ba553a787"
      },
      "execution_count": 45,
      "outputs": [
        {
          "output_type": "stream",
          "name": "stdout",
          "text": [
            "4\n"
          ]
        }
      ]
    },
    {
      "cell_type": "markdown",
      "source": [
        "**5.3 Text**"
      ],
      "metadata": {
        "id": "SMrmOJiKtmFl"
      }
    },
    {
      "cell_type": "code",
      "source": [
        "# Example \n",
        "\n",
        "name = \"Universidad de la salle\"\n",
        "print(name)"
      ],
      "metadata": {
        "colab": {
          "base_uri": "https://localhost:8080/"
        },
        "id": "TcEwRmjTtp50",
        "outputId": "08343657-7f1a-4ad1-f5e2-b6258d434f57"
      },
      "execution_count": 47,
      "outputs": [
        {
          "output_type": "stream",
          "name": "stdout",
          "text": [
            "Universidad de la salle\n"
          ]
        }
      ]
    },
    {
      "cell_type": "code",
      "source": [
        "name[0]\n",
        "name[12]\n",
        "name[-2]"
      ],
      "metadata": {
        "colab": {
          "base_uri": "https://localhost:8080/",
          "height": 35
        },
        "id": "6cMDVOUfuAYl",
        "outputId": "308c42bc-a764-4f13-89b5-1d195b5f9da4"
      },
      "execution_count": 54,
      "outputs": [
        {
          "output_type": "execute_result",
          "data": {
            "text/plain": [
              "'l'"
            ],
            "application/vnd.google.colaboratory.intrinsic+json": {
              "type": "string"
            }
          },
          "metadata": {},
          "execution_count": 54
        }
      ]
    },
    {
      "cell_type": "code",
      "source": [
        "name[0:12]"
      ],
      "metadata": {
        "colab": {
          "base_uri": "https://localhost:8080/",
          "height": 35
        },
        "id": "lkOUn7d8uop7",
        "outputId": "6fc61514-932c-479e-988d-ccc8d0396591"
      },
      "execution_count": 57,
      "outputs": [
        {
          "output_type": "execute_result",
          "data": {
            "text/plain": [
              "'Universidad '"
            ],
            "application/vnd.google.colaboratory.intrinsic+json": {
              "type": "string"
            }
          },
          "metadata": {},
          "execution_count": 57
        }
      ]
    },
    {
      "cell_type": "code",
      "source": [
        "name.split()[0:4]"
      ],
      "metadata": {
        "colab": {
          "base_uri": "https://localhost:8080/"
        },
        "id": "Tbv1vY8EvA38",
        "outputId": "1f57426a-dc29-4505-86ad-cf1b7e4de9f3"
      },
      "execution_count": 61,
      "outputs": [
        {
          "output_type": "execute_result",
          "data": {
            "text/plain": [
              "['Universidad', 'de', 'la', 'salle']"
            ]
          },
          "metadata": {},
          "execution_count": 61
        }
      ]
    }
  ]
}