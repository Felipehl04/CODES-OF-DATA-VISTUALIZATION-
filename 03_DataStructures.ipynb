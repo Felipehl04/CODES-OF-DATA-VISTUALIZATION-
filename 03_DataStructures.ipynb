{
  "nbformat": 4,
  "nbformat_minor": 0,
  "metadata": {
    "colab": {
      "provenance": [],
      "authorship_tag": "ABX9TyO8m0AN1QMBS1UaH75UU/FS",
      "include_colab_link": true
    },
    "kernelspec": {
      "name": "python3",
      "display_name": "Python 3"
    },
    "language_info": {
      "name": "python"
    }
  },
  "cells": [
    {
      "cell_type": "markdown",
      "metadata": {
        "id": "view-in-github",
        "colab_type": "text"
      },
      "source": [
        "<a href=\"https://colab.research.google.com/github/Felipehl04/CODES-OF-DATA-VISTUALIZATION-/blob/main/03_DataStructures.ipynb\" target=\"_parent\"><img src=\"https://colab.research.google.com/assets/colab-badge.svg\" alt=\"Open In Colab\"/></a>"
      ]
    },
    {
      "cell_type": "markdown",
      "source": [
        "## **1. What is a DS?**\n",
        "\n",
        "A DS is an object that let us store more than one value.\n",
        "\n",
        "Formally, a DS is **sequence** of values which can be localted whit an index. \n"
      ],
      "metadata": {
        "id": "X8NShuJxuV-v"
      }
    },
    {
      "cell_type": "markdown",
      "source": [
        "# **2. linear algebra**"
      ],
      "metadata": {
        "id": "jUcvlFlYw3Ne"
      }
    },
    {
      "cell_type": "markdown",
      "source": [
        "## 2.1 What is Numpy?\n",
        "\n",
        "Numpy ( Numerical Python) is a collection of functiosn and methods."
      ],
      "metadata": {
        "id": "2bJkDQ7uw3IN"
      }
    },
    {
      "cell_type": "code",
      "source": [
        "# Install the library \n",
        "import numpy as np"
      ],
      "metadata": {
        "id": "S2ZdPG-ixts6"
      },
      "execution_count": 1,
      "outputs": []
    },
    {
      "cell_type": "markdown",
      "source": [
        "2.2 Numpy arrays - vectors and matrices"
      ],
      "metadata": {
        "id": "SxGbw0U-yfxe"
      }
    },
    {
      "cell_type": "markdown",
      "source": [
        "*Example 1 - colum vector*\n",
        "\n",
        "\n",
        " "
      ],
      "metadata": {
        "id": "EIGidyZ4yp-P"
      }
    },
    {
      "cell_type": "code",
      "source": [
        " a = np.array([[1],[2],[3]])\n",
        " print(a)\n",
        " print(a.shape)"
      ],
      "metadata": {
        "colab": {
          "base_uri": "https://localhost:8080/"
        },
        "id": "ngoKuwKgzwDS",
        "outputId": "d0fcc829-9280-4de1-d801-de3db649cdf1"
      },
      "execution_count": 6,
      "outputs": [
        {
          "output_type": "stream",
          "name": "stdout",
          "text": [
            "[[1]\n",
            " [2]\n",
            " [3]]\n",
            "(3, 1)\n"
          ]
        }
      ]
    },
    {
      "cell_type": "markdown",
      "source": [
        "*Example 2 - Row vector "
      ],
      "metadata": {
        "id": "W3FkMcpsnTz4"
      }
    },
    {
      "cell_type": "code",
      "source": [
        "b = np.array([[4,5,6]])\n",
        "print(b)\n",
        "print(b.shape)"
      ],
      "metadata": {
        "colab": {
          "base_uri": "https://localhost:8080/"
        },
        "id": "2AItoIq_nYiC",
        "outputId": "90b82e0b-512f-4451-ad05-d6cf808e85c4"
      },
      "execution_count": 11,
      "outputs": [
        {
          "output_type": "stream",
          "name": "stdout",
          "text": [
            "[[4 5 6]]\n",
            "(1, 3)\n"
          ]
        }
      ]
    },
    {
      "cell_type": "markdown",
      "source": [
        "*Example 3 - Matrix*"
      ],
      "metadata": {
        "id": "2kSA_WMNn4aR"
      }
    },
    {
      "cell_type": "code",
      "source": [
        "M = np.array([[1,2,3],[4,5,6],[7,8,9]])\n",
        "print(M)\n",
        "print(M.shape)"
      ],
      "metadata": {
        "colab": {
          "base_uri": "https://localhost:8080/"
        },
        "id": "inW6oOe0n8x4",
        "outputId": "00b39afd-296e-436d-95e7-48eaffc72573"
      },
      "execution_count": 14,
      "outputs": [
        {
          "output_type": "stream",
          "name": "stdout",
          "text": [
            "[[1 2 3]\n",
            " [4 5 6]\n",
            " [7 8 9]]\n",
            "(3, 3)\n"
          ]
        }
      ]
    },
    {
      "cell_type": "code",
      "source": [
        "# nice trick\n",
        "\n",
        "nf, nc = M.shape\n"
      ],
      "metadata": {
        "id": "nCKLHgfkouFJ"
      },
      "execution_count": 25,
      "outputs": []
    },
    {
      "cell_type": "markdown",
      "source": [
        "#  2.3. Scilling\n",
        "\n",
        "to acces ir several elements of then object.\n"
      ],
      "metadata": {
        "id": "G9C0Fp2TpVho"
      }
    },
    {
      "cell_type": "code",
      "source": [
        "# Extract the first element\n",
        "\n",
        "##Column vector \n",
        "print(a[0,0])\n",
        "\n",
        "##Row vector\n",
        "print(b[0,0,])\n",
        "\n",
        "\n",
        "##Matrix \n",
        "print(M[0,0,])"
      ],
      "metadata": {
        "colab": {
          "base_uri": "https://localhost:8080/"
        },
        "id": "SYRp6V8ApqUx",
        "outputId": "5834f3da-9470-416e-bd47-9ec896ae94df"
      },
      "execution_count": 36,
      "outputs": [
        {
          "output_type": "stream",
          "name": "stdout",
          "text": [
            "1\n",
            "4\n",
            "1\n"
          ]
        }
      ]
    },
    {
      "cell_type": "code",
      "source": [
        "# Extrac the last element\n",
        "\n",
        "##Column vector \n",
        "print(a[-1,0])\n",
        "\n",
        "##Row vector\n",
        "print(b[0,-1,])\n",
        "\n",
        "##Matrix \n",
        "print(M[-1,-1,])"
      ],
      "metadata": {
        "colab": {
          "base_uri": "https://localhost:8080/"
        },
        "id": "8F55wwP2rGuZ",
        "outputId": "ba631751-79d0-4221-8498-007236326823"
      },
      "execution_count": 39,
      "outputs": [
        {
          "output_type": "stream",
          "name": "stdout",
          "text": [
            "3\n",
            "6\n",
            "9\n"
          ]
        }
      ]
    },
    {
      "cell_type": "code",
      "source": [
        "# Extract a subset\n",
        "\n",
        "##Column vector \n",
        "print(a[0:2])\n",
        "\n",
        "##Row vector\n",
        "print(b[0,0:2])\n",
        "\n",
        "##Matrix \n",
        "print(M[0:2,0:2])"
      ],
      "metadata": {
        "colab": {
          "base_uri": "https://localhost:8080/"
        },
        "id": "lhwx7fzrrnIL",
        "outputId": "6d9b31a3-3486-4365-b994-0895b68104e6"
      },
      "execution_count": 43,
      "outputs": [
        {
          "output_type": "stream",
          "name": "stdout",
          "text": [
            "[[1]\n",
            " [2]]\n",
            "[4 5]\n",
            "[[1 2]\n",
            " [4 5]]\n"
          ]
        }
      ]
    },
    {
      "cell_type": "markdown",
      "source": [
        "# 2.4. Methods "
      ],
      "metadata": {
        "id": "JcMfc6L0s2Wp"
      }
    },
    {
      "cell_type": "code",
      "source": [
        "#Zeros \n",
        "z1= np.zeros(4)\n",
        "print(z1)\n",
        "\n",
        "z2=np.zeros((3,2))\n",
        "print(z2)\n",
        "\n",
        "\n"
      ],
      "metadata": {
        "colab": {
          "base_uri": "https://localhost:8080/"
        },
        "id": "Pmz4dkobta6j",
        "outputId": "08b453e0-9522-41ea-ec66-451a7429869d"
      },
      "execution_count": 47,
      "outputs": [
        {
          "output_type": "stream",
          "name": "stdout",
          "text": [
            "[0. 0. 0. 0.]\n",
            "[[0. 0.]\n",
            " [0. 0.]\n",
            " [0. 0.]]\n"
          ]
        }
      ]
    },
    {
      "cell_type": "code",
      "source": [
        "#Ones\n",
        "o1= np.ones(4)\n",
        "print(o1)\n",
        "\n",
        "o2=np.ones((3,2))\n",
        "print(o2)\n"
      ],
      "metadata": {
        "colab": {
          "base_uri": "https://localhost:8080/"
        },
        "id": "vGI2nNgauQAM",
        "outputId": "0bdfa2bc-d976-4e6c-e9f8-9ec14a2231db"
      },
      "execution_count": 50,
      "outputs": [
        {
          "output_type": "stream",
          "name": "stdout",
          "text": [
            "[1. 1. 1. 1.]\n",
            "[[1. 1.]\n",
            " [1. 1.]\n",
            " [1. 1.]]\n"
          ]
        },
        {
          "output_type": "execute_result",
          "data": {
            "text/plain": [
              "array([[5., 5.],\n",
              "       [5., 5.],\n",
              "       [5., 5.]])"
            ]
          },
          "metadata": {},
          "execution_count": 50
        }
      ]
    },
    {
      "cell_type": "markdown",
      "source": [
        "**ANOTHER CREATION OPTIONS**"
      ],
      "metadata": {
        "id": "3A_1O__vvWhJ"
      }
    },
    {
      "cell_type": "code",
      "source": [
        "# FUll\n",
        "\n",
        "f = np.full((3,2),5)\n",
        "print(f)"
      ],
      "metadata": {
        "colab": {
          "base_uri": "https://localhost:8080/"
        },
        "id": "8klxMTkdva-R",
        "outputId": "53c66616-a55d-4f38-b684-ef724d28ee15"
      },
      "execution_count": 52,
      "outputs": [
        {
          "output_type": "stream",
          "name": "stdout",
          "text": [
            "[[5 5]\n",
            " [5 5]\n",
            " [5 5]]\n"
          ]
        }
      ]
    },
    {
      "cell_type": "code",
      "source": [
        "# Linear sequence \n",
        "\n",
        "np.arange(6)\n",
        "np.arange(23,33)\n",
        "np.arange(23,33,0.5)"
      ],
      "metadata": {
        "colab": {
          "base_uri": "https://localhost:8080/"
        },
        "id": "RtZdWhHgv-Wh",
        "outputId": "ea3ab3eb-9137-4120-da88-6c07ec8bc5f1"
      },
      "execution_count": 61,
      "outputs": [
        {
          "output_type": "execute_result",
          "data": {
            "text/plain": [
              "array([23. , 23.5, 24. , 24.5, 25. , 25.5, 26. , 26.5, 27. , 27.5, 28. ,\n",
              "       28.5, 29. , 29.5, 30. , 30.5, 31. , 31.5, 32. , 32.5])"
            ]
          },
          "metadata": {},
          "execution_count": 61
        }
      ]
    },
    {
      "cell_type": "code",
      "source": [
        "# Linear space\n",
        "\n",
        "np.linspace(15,90,6)"
      ],
      "metadata": {
        "colab": {
          "base_uri": "https://localhost:8080/"
        },
        "id": "Zpn2jSJTxUNK",
        "outputId": "ff2c7bcf-6908-4d18-f67e-57c78ce53af5"
      },
      "execution_count": 62,
      "outputs": [
        {
          "output_type": "execute_result",
          "data": {
            "text/plain": [
              "array([15., 30., 45., 60., 75., 90.])"
            ]
          },
          "metadata": {},
          "execution_count": 62
        }
      ]
    },
    {
      "cell_type": "markdown",
      "source": [
        "## 2.5. Random Numbers"
      ],
      "metadata": {
        "id": "Hmn41TaQx_SX"
      }
    },
    {
      "cell_type": "code",
      "source": [
        "# A Single Value - between 0 y 1\n",
        "np.random.seed(1234)\n",
        "np.random.rand()"
      ],
      "metadata": {
        "colab": {
          "base_uri": "https://localhost:8080/"
        },
        "id": "hYxetoH3yRtk",
        "outputId": "c921cc8a-66ca-4072-ceb4-9aab7cb9770c"
      },
      "execution_count": 80,
      "outputs": [
        {
          "output_type": "execute_result",
          "data": {
            "text/plain": [
              "0.1915194503788923"
            ]
          },
          "metadata": {},
          "execution_count": 80
        }
      ]
    },
    {
      "cell_type": "code",
      "source": [
        "# Example - Toss a coin\n",
        "\n",
        "if np.random.rand() < 0.5:\n",
        "  print(\"head\")\n",
        "else:\n",
        "  print(\"Tails\")\n",
        "\n"
      ],
      "metadata": {
        "colab": {
          "base_uri": "https://localhost:8080/"
        },
        "id": "fsTGe0qyz0xW",
        "outputId": "019f45f5-dc1c-4dec-9dff-20f700241955"
      },
      "execution_count": 86,
      "outputs": [
        {
          "output_type": "stream",
          "name": "stdout",
          "text": [
            "head\n"
          ]
        }
      ]
    },
    {
      "cell_type": "code",
      "source": [
        "#Two heads in a row\n",
        "\n",
        "if np.random.rand() < 0.25:\n",
        "  print(\"YOU WIN!\")\n",
        "else:\n",
        "  print(\"YOU LOUSE!\")\n",
        "\n"
      ],
      "metadata": {
        "colab": {
          "base_uri": "https://localhost:8080/"
        },
        "id": "BWxn4Yra1chR",
        "outputId": "ecf33f95-1f53-4253-da25-9099ce0aee26"
      },
      "execution_count": 114,
      "outputs": [
        {
          "output_type": "stream",
          "name": "stdout",
          "text": [
            "YOU WIN!\n"
          ]
        }
      ]
    },
    {
      "cell_type": "code",
      "source": [
        "#Two heads in a row\n",
        "ft = np.random.rand()\n",
        "if ft < 0.5:\n",
        "  print(\"The first toss was head\")\n",
        "else:\n",
        "  print(\"The first toss was Tails\")\n",
        "\n",
        "st = np.random.rand()\n",
        "if st < 0.5:\n",
        "  print(\"The second toss was head\")\n",
        "else:\n",
        "  print(\"The second toss was Tails\")\n",
        "\n",
        "  if ft < 0.5 and st < 0.5:\n",
        "    print(\"YOU WIN!\")\n",
        "  else:\n",
        "    print(\"YOU LOSE!\")"
      ],
      "metadata": {
        "colab": {
          "base_uri": "https://localhost:8080/"
        },
        "id": "WYeWdNJx48lA",
        "outputId": "93aa0d30-66cc-4359-f8c5-de099d4167ef"
      },
      "execution_count": 153,
      "outputs": [
        {
          "output_type": "stream",
          "name": "stdout",
          "text": [
            "The first toss was Tails\n",
            "The second toss was Tails\n",
            "YOU LOSE!\n"
          ]
        }
      ]
    }
  ]
}