{
  "nbformat": 4,
  "nbformat_minor": 0,
  "metadata": {
    "colab": {
      "provenance": [],
      "authorship_tag": "ABX9TyM8R72HmLNJ16gCF6OB02vP",
      "include_colab_link": true
    },
    "kernelspec": {
      "name": "python3",
      "display_name": "Python 3"
    },
    "language_info": {
      "name": "python"
    }
  },
  "cells": [
    {
      "cell_type": "markdown",
      "metadata": {
        "id": "view-in-github",
        "colab_type": "text"
      },
      "source": [
        "<a href=\"https://colab.research.google.com/github/Felipehl04/CODES-OF-DATA-VISTUALIZATION-/blob/main/03_DataStructures.ipynb\" target=\"_parent\"><img src=\"https://colab.research.google.com/assets/colab-badge.svg\" alt=\"Open In Colab\"/></a>"
      ]
    },
    {
      "cell_type": "markdown",
      "source": [
        "## **1. What is a DS?**\n",
        "\n",
        "A DS is an object that let us store more than one value.\n",
        "\n",
        "Formally, a DS is **sequence** of values which can be localted whit an index. \n"
      ],
      "metadata": {
        "id": "X8NShuJxuV-v"
      }
    },
    {
      "cell_type": "markdown",
      "source": [
        "# **2. linear algebra**"
      ],
      "metadata": {
        "id": "jUcvlFlYw3Ne"
      }
    },
    {
      "cell_type": "markdown",
      "source": [
        "## 2.1 What is Numpy?\n",
        "\n",
        "Numpy ( Numerical Python) is a collection of functiosn and methods."
      ],
      "metadata": {
        "id": "2bJkDQ7uw3IN"
      }
    },
    {
      "cell_type": "code",
      "source": [
        "# Install the library \n",
        "import numpy as np"
      ],
      "metadata": {
        "id": "S2ZdPG-ixts6"
      },
      "execution_count": 2,
      "outputs": []
    },
    {
      "cell_type": "markdown",
      "source": [
        "2.2 Numpy arrays - vectors and matrices"
      ],
      "metadata": {
        "id": "SxGbw0U-yfxe"
      }
    },
    {
      "cell_type": "markdown",
      "source": [
        "*Example 1 - colum vector*\n",
        "\n",
        "\n",
        " "
      ],
      "metadata": {
        "id": "EIGidyZ4yp-P"
      }
    },
    {
      "cell_type": "code",
      "source": [
        " a = np.array([[1],[2],[3]])\n",
        " print(a)"
      ],
      "metadata": {
        "colab": {
          "base_uri": "https://localhost:8080/"
        },
        "id": "ngoKuwKgzwDS",
        "outputId": "7945c6fe-b529-42c7-c59e-33674974ad4b"
      },
      "execution_count": 4,
      "outputs": [
        {
          "output_type": "stream",
          "name": "stdout",
          "text": [
            "[[1]\n",
            " [2]\n",
            " [3]]\n"
          ]
        }
      ]
    }
  ]
}