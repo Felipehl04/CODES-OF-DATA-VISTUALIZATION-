{
  "nbformat": 4,
  "nbformat_minor": 0,
  "metadata": {
    "colab": {
      "provenance": [],
      "toc_visible": true,
      "authorship_tag": "ABX9TyO/DRk1dp3uSMzAbOr+wvw9",
      "include_colab_link": true
    },
    "kernelspec": {
      "name": "python3",
      "display_name": "Python 3"
    },
    "language_info": {
      "name": "python"
    }
  },
  "cells": [
    {
      "cell_type": "markdown",
      "metadata": {
        "id": "view-in-github",
        "colab_type": "text"
      },
      "source": [
        "<a href=\"https://colab.research.google.com/github/Felipehl04/CODES-OF-DATA-VISTUALIZATION-/blob/main/CLASS_1_CODES.ipynb\" target=\"_parent\"><img src=\"https://colab.research.google.com/assets/colab-badge.svg\" alt=\"Open In Colab\"/></a>"
      ]
    },
    {
      "cell_type": "markdown",
      "source": [
        "# Title\n",
        "## subtitle\n",
        "###  subsubtittle\n",
        "\n"
      ],
      "metadata": {
        "id": "_R3-ZakbcdIp"
      }
    },
    {
      "cell_type": "markdown",
      "source": [
        "# section new"
      ],
      "metadata": {
        "id": "tMnChfbPd1-k"
      }
    },
    {
      "cell_type": "code",
      "execution_count": 1,
      "metadata": {
        "id": "SBq0BKSHl95u"
      },
      "outputs": [],
      "source": [
        "## SECTION 1"
      ]
    },
    {
      "cell_type": "code",
      "source": [
        "##SUBSECTION 1"
      ],
      "metadata": {
        "id": "6oZwIc31ezJ5"
      },
      "execution_count": 2,
      "outputs": []
    },
    {
      "cell_type": "markdown",
      "source": [
        "# Text formating\n"
      ],
      "metadata": {
        "id": "eP-bSSz3e38t"
      }
    },
    {
      "cell_type": "markdown",
      "source": [
        "##bold\n",
        "\n",
        "using \"**\" :\n",
        "\n",
        "`**JUAN**`= **JUAN**"
      ],
      "metadata": {
        "id": "Kc4ViXdRfAFQ"
      }
    },
    {
      "cell_type": "markdown",
      "source": [
        "## Italic\n",
        "\n",
        "Use `*`\n",
        "\n",
        " *HUERFANO*= *JUAN*\n"
      ],
      "metadata": {
        "id": "f91d4FgBf-n_"
      }
    },
    {
      "cell_type": "markdown",
      "source": [
        "**JUAN FELIPE** *HUERFANO* ***LOSADA***"
      ],
      "metadata": {
        "id": "LsrfqoCmhS01"
      }
    }
  ]
}