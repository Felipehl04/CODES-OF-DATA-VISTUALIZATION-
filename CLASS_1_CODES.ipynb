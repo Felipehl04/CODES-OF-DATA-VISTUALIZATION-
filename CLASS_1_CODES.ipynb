{
  "nbformat": 4,
  "nbformat_minor": 0,
  "metadata": {
    "colab": {
      "provenance": [],
      "authorship_tag": "ABX9TyN4DYgMkxLL6NuvBhJLC6N3",
      "include_colab_link": true
    },
    "kernelspec": {
      "name": "python3",
      "display_name": "Python 3"
    },
    "language_info": {
      "name": "python"
    }
  },
  "cells": [
    {
      "cell_type": "markdown",
      "metadata": {
        "id": "view-in-github",
        "colab_type": "text"
      },
      "source": [
        "<a href=\"https://colab.research.google.com/github/Felipehl04/CODES-OF-DATA-VISTUALIZATION-/blob/main/CLASS_1_CODES.ipynb\" target=\"_parent\"><img src=\"https://colab.research.google.com/assets/colab-badge.svg\" alt=\"Open In Colab\"/></a>"
      ]
    },
    {
      "cell_type": "markdown",
      "source": [
        "# Title\n",
        "## subtitle\n",
        "###  subsubtittle\n",
        "\n"
      ],
      "metadata": {
        "id": "_R3-ZakbcdIp"
      }
    },
    {
      "cell_type": "markdown",
      "source": [
        "# section new"
      ],
      "metadata": {
        "id": "tMnChfbPd1-k"
      }
    },
    {
      "cell_type": "code",
      "execution_count": 1,
      "metadata": {
        "id": "SBq0BKSHl95u"
      },
      "outputs": [],
      "source": [
        "## SECTION 1"
      ]
    },
    {
      "cell_type": "code",
      "source": [
        "##SUBSECTION 1"
      ],
      "metadata": {
        "id": "6oZwIc31ezJ5"
      },
      "execution_count": 2,
      "outputs": []
    },
    {
      "cell_type": "markdown",
      "source": [
        "# Text formating\n"
      ],
      "metadata": {
        "id": "eP-bSSz3e38t"
      }
    },
    {
      "cell_type": "markdown",
      "source": [
        "##bold\n",
        "\n",
        "using \"**\" :\n",
        "\n",
        "`**JUAN**`= **JUAN**"
      ],
      "metadata": {
        "id": "Kc4ViXdRfAFQ"
      }
    },
    {
      "cell_type": "markdown",
      "source": [
        "## Italic\n",
        "\n",
        "Use `*`\n",
        "\n",
        " *HUERFANO*= *JUAN*\n"
      ],
      "metadata": {
        "id": "f91d4FgBf-n_"
      }
    },
    {
      "cell_type": "markdown",
      "source": [
        "**JUAN FELIPE** *HUERFANO* ***LOSADA***"
      ],
      "metadata": {
        "id": "LsrfqoCmhS01"
      }
    },
    {
      "cell_type": "markdown",
      "source": [
        "# list\n"
      ],
      "metadata": {
        "id": "V5p18T22jIKX"
      }
    },
    {
      "cell_type": "markdown",
      "source": [
        "## Unordered list \n",
        "\n",
        "**List of Sports:**\n",
        "\n",
        "* football\n",
        "* basketball\n",
        "* volleyball\n"
      ],
      "metadata": {
        "id": "yP3k9iGGjMT3"
      }
    },
    {
      "cell_type": "markdown",
      "source": [
        "## ordered list \n",
        "\n",
        "**The best singenrs:**\n",
        "\n",
        "1. Justin bieber\n",
        "2. Maluma\n",
        "3. Adele \n",
        "\n"
      ],
      "metadata": {
        "id": "aStF4yBKjt_1"
      }
    },
    {
      "cell_type": "markdown",
      "source": [
        "## Nested lists \n",
        "\n",
        "**To-Do List:**\n",
        "\n",
        "1. Trainning\n",
        "\n",
        "  1.1. wake-up early \n",
        "\n",
        "  1.2. Run 10 kms\n",
        "\n",
        "2. Rest\n",
        "\n",
        "  2.1. Sleep"
      ],
      "metadata": {
        "id": "mq93dNj9kV7H"
      }
    },
    {
      "cell_type": "markdown",
      "source": [
        "###EXCERCISE \n",
        "LIST FOR YOU TO-DO FOR TOMORROW\n",
        "\n",
        "1.***wake-up at 8am***\n",
        "  \n",
        "  1.1.eat lunch \n",
        "\n",
        "  1.2. wash the daites\n",
        "\n",
        "  1.3. organizate the room\n",
        "\n",
        "2. **Go to univeristy**\n",
        "\n",
        "  2.1 take the transport public\n",
        "\n",
        "  2.2 walk to the university\n",
        "\n",
        "3.***Go to the work enter the turn 3:30pm*** \n",
        "\n",
        "\n",
        "  \n",
        "\n",
        "\n",
        "  \n",
        "\n"
      ],
      "metadata": {
        "id": "MxHxuQo6le5X"
      }
    }
  ]
}