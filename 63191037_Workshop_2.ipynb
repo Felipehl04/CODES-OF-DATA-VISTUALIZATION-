{
  "nbformat": 4,
  "nbformat_minor": 0,
  "metadata": {
    "colab": {
      "provenance": [],
      "include_colab_link": true
    },
    "kernelspec": {
      "name": "python3",
      "display_name": "Python 3"
    },
    "language_info": {
      "name": "python"
    }
  },
  "cells": [
    {
      "cell_type": "markdown",
      "metadata": {
        "id": "view-in-github",
        "colab_type": "text"
      },
      "source": [
        "<a href=\"https://colab.research.google.com/github/Felipehl04/CODES-OF-DATA-VISTUALIZATION-/blob/main/63191037_Workshop_2.ipynb\" target=\"_parent\"><img src=\"https://colab.research.google.com/assets/colab-badge.svg\" alt=\"Open In Colab\"/></a>"
      ]
    },
    {
      "cell_type": "markdown",
      "source": [
        "<h1 align = \"center\">\n",
        "<strong> Universidad de La Salle </strong>\n",
        "</h1>\n",
        "\n",
        "<h1 align = \"center\">\n",
        "<strong> Finance and International Commerce Program </strong>\n",
        "</h1>\n",
        "\n",
        "<h1 align = \"center\">\n",
        "<strong> Data Visualization - Workshop 2 </strong>\n",
        "</h1>\n"
      ],
      "metadata": {
        "id": "BJolccUZSw9G"
      }
    },
    {
      "cell_type": "markdown",
      "source": [
        "# **Instructions**\n",
        "\n",
        "1. Please read carefully the document. Ask all the questions you may have.\n",
        "2. Save this file in your Google Drive.\n",
        "3. DO NOT alter any cell unless it specifically ask you to do it.\n",
        "4. You will have **two hours** (until 11am) maximum to finish and deliver this workshop.\n",
        "5. You can use any help you want: your notes, your codes, internet, classmates.\n",
        "6. Nevertheless, the workshop must be presented individually.\n",
        "7. Once you have finish, save a copy in your GitHub class repository.\n",
        "8. The deliver process is as follows:\n",
        "    \n",
        "    8.1. Via email you will send the link to the GitHub location.\n",
        "    \n",
        "    8.2. In the same mail, just for safety, you will attach a copy of your `.ipynb` file.\n",
        "    \n",
        "    8.3. The email must have the subject: \"W2 DV\".   "
      ],
      "metadata": {
        "id": "pLRc5RAyWsre"
      }
    },
    {
      "cell_type": "markdown",
      "source": [
        "# **To keep in mind**\n",
        "\n",
        "* The excercises propouse are intended to **push** you a little futher in your Pyton skills.\n",
        "* This means that there are going to be exercises above the level seen in class.\n",
        "* The idea is to incentive your creative thinking and solving problem skills.\n",
        "* As always there several ways to do the excersice. But in this case, I ask you to use only the tools we learned.\n",
        "* I ask you to trust me. Give your best effort. Grades do not matter here. "
      ],
      "metadata": {
        "id": "4QKdNKujZEbk"
      }
    },
    {
      "cell_type": "markdown",
      "source": [
        "# **Exercise**\n",
        "\n",
        "**Roulette!**\n",
        "\n",
        "Let's simulate a casino game.\n",
        "Specifically, a single-zero (french) roulette.\n",
        "\n",
        "This game consists on rolling a ball over a wheel with number pockets.\n",
        "\n",
        "[Game](https://image.shutterstock.com/image-illustration/casino-roulette-wheel-chips-on-600w-1288790665.jpg)\n",
        "\n",
        "There are several ways to bet on this game, you have to code a few."
      ],
      "metadata": {
        "id": "2kRoSKUmaGl9"
      }
    },
    {
      "cell_type": "code",
      "source": [
        "import numpy as np"
      ],
      "metadata": {
        "id": "8lMuVMe0iwhw"
      },
      "execution_count": 1,
      "outputs": []
    },
    {
      "cell_type": "markdown",
      "source": [
        "## Ex 1 - Number Bet \n",
        "\n",
        "You can bet on any number between 0 and 36.\n",
        "You win if the result is the number you bet on.\n",
        "In any other case, you lose.\n",
        "\n",
        "Write the appropiate the code to reflect this process. \n",
        "\n",
        "The result must show the bet made, the result obtained and if you win or lose."
      ],
      "metadata": {
        "id": "PYIRNu3imJ_n"
      }
    },
    {
      "cell_type": "code",
      "execution_count": 57,
      "metadata": {
        "id": "9TaC9734lQMI",
        "colab": {
          "base_uri": "https://localhost:8080/"
        },
        "outputId": "583f8e59-dc4d-4bf2-9f87-d6777e1eed73"
      },
      "outputs": [
        {
          "output_type": "stream",
          "name": "stdout",
          "text": [
            "8\n",
            "YOU WIN\n"
          ]
        }
      ],
      "source": [
        "# Answ. Ex 1\n",
        "# (write your code below)\n",
        "## The player select one number between 0 - 36\n",
        "## nb is number selected\n",
        "nb= 8\n",
        "nr = np.random.randint(low = 0, high = 37)\n",
        "print(nr)\n",
        "if nr == nb:\n",
        "  print(\"YOU WIN\")\n",
        "else:\n",
        "  print(\"YOU LOUSE\")"
      ]
    },
    {
      "cell_type": "markdown",
      "source": [
        "## Ex 2 - Color Bet\n",
        "\n",
        "Each color has an associated color. Zero is neutral.\n",
        "\n",
        "And the rest of the numbers vary between black and red (see the previous image).\n",
        "\n",
        "Write the appropiate code to simulate a random round of Roulette using only the color bet (black or white).\n",
        "\n",
        "The result must show the bet made, the result obtained and if you win or lose.\n",
        "\n",
        "*Tip: first define when you lose and when you win.*"
      ],
      "metadata": {
        "id": "LAdWe8iEaL7B"
      }
    },
    {
      "cell_type": "code",
      "execution_count": 91,
      "metadata": {
        "id": "rw792kISSt3n",
        "colab": {
          "base_uri": "https://localhost:8080/"
        },
        "outputId": "d82ed352-3952-4d03-fa5f-ec0839a88a9b"
      },
      "outputs": [
        {
          "output_type": "stream",
          "name": "stdout",
          "text": [
            "Your bet color is RED\n",
            "THE COLOR OF THE ROULETTE WAS:RED\n",
            "YOY WIN\n"
          ]
        }
      ],
      "source": [
        "# Answ. Ex 2\n",
        "# (write your code below)\n",
        "\n",
        "#Choose color: Green, Red, Black\n",
        "\n",
        "cb = \"RED\"\n",
        "print(\"Your bet color is\",cb)\n",
        "c = np.random.rand()\n",
        "if c <0.49:\n",
        "  print(\"THE COLOR OF THE ROULETTE WAS:RED\")\n",
        "  a =-1\n",
        "elif 0.49 < c < 0.98:\n",
        "  print(\"THE COLOR OF THE ROULETTE WAS:BLACK\")\n",
        "  a =1\n",
        "else : \n",
        "  print(\"THE COLOR OF THE ROULETTE WAS:NEUTRAL\")\n",
        "  a=0\n",
        "\n",
        "if cb == \"Black\" and a == 1:\n",
        "  print(\"YOU LOUSE\")\n",
        "elif cb == \"RED\" and a == -1:\n",
        "  print(\"YOY WIN\")\n",
        "else:\n",
        "  print(\"YOU LOUSE\")"
      ]
    },
    {
      "cell_type": "markdown",
      "source": [
        "## Ex 3 - Dozens Bet\n",
        "\n",
        "Given the 3 groups:\n",
        "\n",
        "A -> numbers between 1 and 12.\n",
        "B -> numbers between 13 and 24.\n",
        "C -> numbers between 25 and 36. \n",
        "\n",
        "Write the appropiate code to print the result of betting exclusively with dozens.\n",
        "\n",
        "The result must show the bet made, the result obtained and if you win or lose.\n",
        "\n",
        "*Tip: Note that zero is not in the groups but it is a possible result.*"
      ],
      "metadata": {
        "id": "YFsGiwcNfgzP"
      }
    },
    {
      "cell_type": "code",
      "source": [
        "# Answ. Ex 3 \n",
        "# (write your code below)\n",
        "\n",
        "\n",
        "#OPTION A (NUMBER BEWTWEEN 1 AND 12)\n",
        "#OPTION B (NUMBER BEWTWEEN 13 AND 24)\n",
        "#OPTION C (NUMBER BEWTWEEN 25 AND 36)\n",
        "\n",
        "db = \"A\"\n",
        "print(\"YOUR BET OPTION IS\",db)\n",
        "\n",
        "dc =np.random.randint(low = 1, high = 37)\n",
        "if 1 < dc < 12:\n",
        "    print(\"THE OPTION OF THE ROULETTE:A\")\n",
        "    b=-1\n",
        "elif  13 < dc < 24:\n",
        "    print(\"THE OPTION OF THE ROULETTE:B\")\n",
        "    b=1\n",
        "else:\n",
        "    print(\"THE OPTION OF THE ROULETTE:C\")\n",
        "    b=0\n",
        "\n",
        "if db == 'A' and b == 1:\n",
        "  print('You win')\n",
        "elif db == 'B' and b == -1:\n",
        "  print('You win')\n",
        "else:\n",
        "  print('You lose')\n"
      ],
      "metadata": {
        "id": "Dwdsh30Ti3vl",
        "colab": {
          "base_uri": "https://localhost:8080/"
        },
        "outputId": "2ac9435d-7ad7-4d7e-d681-52f6775becd3"
      },
      "execution_count": 96,
      "outputs": [
        {
          "output_type": "stream",
          "name": "stdout",
          "text": [
            "YOUR BET OPTION IS A\n",
            "THE OPTION OF THE ROULETTE:B\n",
            "You win\n"
          ]
        }
      ]
    },
    {
      "cell_type": "markdown",
      "source": [
        "## Ex 4 - Putting everything together\n",
        "\n",
        "Write the code that simulate a random game of Roulette where the person can bet on: Number, Color, Dozen or any combination she or he wants.\n",
        "\n",
        "The result must show the bet made, the result obtained and if you win or lose."
      ],
      "metadata": {
        "id": "RSyiV1UPlVcJ"
      }
    },
    {
      "cell_type": "code",
      "source": [
        "# Answ. Ex 4\n",
        "# (write your code below)"
      ],
      "metadata": {
        "id": "FQU_vc_5sse0"
      },
      "execution_count": 5,
      "outputs": []
    }
  ]
}